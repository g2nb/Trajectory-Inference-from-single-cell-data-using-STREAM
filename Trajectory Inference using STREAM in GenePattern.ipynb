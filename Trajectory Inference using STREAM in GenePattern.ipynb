{
 "cells": [
  {
   "cell_type": "markdown",
   "metadata": {},
   "source": [
    "# Introduction"
   ]
  },
  {
   "cell_type": "markdown",
   "metadata": {},
   "source": [
    "STREAM is a trajectory inference method that can accurately reconstruct complex developmental trajectories. It also provides informative and intuitive visualizations to recover and highlight important genes that define subpopulations and cell types. STREAM takes as input a single-cell gene expression (or epigenomic profile) matrix and approximates the data in three or more dimensions with a structure called the principal graph, a set of curves that naturally describe the cells’ pseudotime, trajectories, and branching points.\n"
   ]
  },
  {
   "cell_type": "markdown",
   "metadata": {},
   "source": [
    "<img src=\"https://github.com/pinellolab/STREAM/raw/stream_python2/STREAM/static/images/Figure1.png\">\n",
    "<p><span style=\"padding-left:20px\">&nbsp;&nbsp;</span><b>Figure:</b> Stream pipeline overview on single-cell RNA-Seq data from the mouse hematopoietic system.  Image from Figure 1 of <a href=\"https://www.nature.com/articles/s41467-019-09670-4\">Chen et al, 2019</a>.</p>"
   ]
  },
  {
   "cell_type": "markdown",
   "metadata": {},
   "source": [
    "\n",
    "STREAM first identifies informative features such as variable genes or top principal components. Using these features, cells are then projected to a lower dimensional space using a non-linear dimensionality reduction method called Modified Locally Linear Embedding (MLLE), which preserves distances within local neighborhoods. In the MLLE embedding, STREAM infers cellular trajectories using an Elastic Principal Graph implementation called ElPiGraph. ElPiGraph is a completely redesigned algorithm for the previously introduced elastic principal graph optimization based on the use of elastic matrix Laplacian, trimmed mean square error, explicit control of topological complexity and scalability to millions of points on an ordinary laptop. In STREAM, the ElPiGraph was further developed to integrate a new heuristic graph structure seeding to learn principal graphs in high dimensions with several problem-specific topological graph grammar rules optimized for single-cell trajectory inference."
   ]
  },
  {
   "cell_type": "markdown",
   "metadata": {},
   "source": [
    "Datasets can be downloaded from https://www.dropbox.com/sh/dfqht1ob89ku99d/AACI5ZW3aRuq9MhBfSNS_1O_a?dl=0  \n",
    "Ref: Nestorowa, S. et al. A single-cell resolution map of mouse hematopoietic stem and progenitor cell differentiation. Blood 128, e20-31 (2016).\n",
    "\n",
    "Additional tutorials using STREAM in non-GenePattern notebooks are available in the <a href=\"https://github.com/pinellolab/STREAM/#tutorial\">STREAM GitHub Repository</a>."
   ]
  },
  {
   "cell_type": "markdown",
   "metadata": {},
   "source": [
    "## Login\n",
    " \n",
    "**Instructions are given in blue boxes, such as with the one below.**\n",
    "\n",
    "<div class=\"alert alert-info\"><h3 style=\"margin-top: 0;\"> Instructions <i class=\"fa fa-info-circle\"></i></h3>\n",
    "Sign in to GenePattern by clicking the login button or entering your username and password into the form below.</div>\n",
    "</p>\n",
    "\n",
    "Make sure to login here before proceeding any farther in the notebook. The user interface components and analysis outputs won't appear until you are logged in."
   ]
  },
  {
   "cell_type": "code",
   "execution_count": 29,
   "metadata": {
    "genepattern": {
     "name": "Login",
     "server": "https://cloud.genepattern.org/gp",
     "type": "auth"
    }
   },
   "outputs": [
    {
     "data": {
      "application/vnd.jupyter.widget-view+json": {
       "model_id": "7f671e7045104d2d890b34f934e51825",
       "version_major": 2,
       "version_minor": 0
      },
      "text/plain": [
       "GPAuthWidget()"
      ]
     },
     "metadata": {},
     "output_type": "display_data"
    }
   ],
   "source": [
    "# Requires GenePattern Notebook: pip install genepattern-notebook\n",
    "import gp\n",
    "import genepattern\n",
    "\n",
    "# Username and password removed for security reasons.\n",
    "genepattern.display(genepattern.session.register(\"https://cloud.genepattern.org/gp\", \"\", \"\"))"
   ]
  },
  {
   "cell_type": "markdown",
   "metadata": {},
   "source": [
    "## Loading Notebook Functions"
   ]
  },
  {
   "cell_type": "markdown",
   "metadata": {},
   "source": [
    "<div class=\"alert alert-info\">\n",
    "<p class=\"lead\"> Instructions <i class=\"fa fa-info-circle\"></i></p>\n",
    "Run the cell below to load functions that will be used later in this notebook.\n",
    "</div>"
   ]
  },
  {
   "cell_type": "code",
   "execution_count": 15,
   "metadata": {
    "nbtools": {
     "description": "Loads local functions used in this notebook",
     "name": "Load Functions",
     "origin": "Notebook",
     "param_values": {
      "output_var": ""
     },
     "show_code": false,
     "type": "uibuilder"
    }
   },
   "outputs": [
    {
     "data": {
      "application/vnd.jupyter.widget-view+json": {
       "model_id": "29ecf1584e2e49a9b50516d27fd3fc0f",
       "version_major": 2,
       "version_minor": 0
      },
      "text/plain": [
       "UIBuilder(collapse=False, description='Loads local functions used in this notebook', function_import='nbtools.…"
      ]
     },
     "metadata": {},
     "output_type": "display_data"
    },
    {
     "data": {
      "application/javascript": [
       "\n",
       "            NBToolManager.instance().register(new NBToolManager.NBTool({\n",
       "                origin: \"Notebook\",\n",
       "                id: \"Load Functions\",\n",
       "                name: \"Load Functions\",\n",
       "                description: \"Loads local functions used in this notebook\",\n",
       "                version: \"null\",\n",
       "                tags: null,\n",
       "                attributes: null,\n",
       "                load: function() { return true; },\n",
       "                render: function() { let code = \"nbtools.tool(id='Load Functions', origin='Notebook')\";\n",
       "                let cell = Jupyter.notebook.get_selected_cell();\n",
       "                const is_empty = cell.get_text().trim() === \"\";\n",
       "\n",
       "                // If this cell is not empty, insert a new cell and use that\n",
       "                // Otherwise just use this cell\n",
       "                if (!is_empty) {\n",
       "                    cell = Jupyter.notebook.insert_cell_below();\n",
       "                    Jupyter.notebook.select_next();\n",
       "                }\n",
       "\n",
       "                cell.set_text(code);\n",
       "                cell.execute();\n",
       "\n",
       "                return cell; },\n",
       "            }));"
      ]
     },
     "metadata": {},
     "output_type": "display_data"
    }
   ],
   "source": [
    "from IPython.core.display import display, HTML, display_html\n",
    "from IPython.display import Image\n",
    "\n",
    "%matplotlib inline\n",
    "\n",
    "displayImageDescription = \"Display an image within a cell of the notebook.\"\n",
    "displayImageParamDef = {\"image\":{  \"name\":\"Image file URL\", \"type\":\"file\", \"kinds\":[\"png\", \"jpg\",\"gif\"]}, \n",
    "                        \"image_1\":{\"name\":\"First image file URL\", \"type\":\"file\", \"kinds\":[\"png\", \"jpg\",\"gif\"]}, \n",
    "                        \"image_2\":{\"name\":\"Second image file URL\", \"type\":\"file\", \"kinds\":[\"png\", \"jpg\",\"gif\"]}, \n",
    "                        \"height\": {\"type\": \"number\", \"optional\": True}, \n",
    "                        \"width\": {\"type\":\"number\", \"optional\": True}, \n",
    "                        \"output_var\":{\"hide\":True }}\n",
    "\n",
    "def displayImage(image, height, width):\n",
    "    return Image(url= image, width=width, height=height)\n",
    "\n",
    "\n",
    "\n",
    "def displayImagePair(image_1, image_2, height, width):\n",
    "  \n",
    "    # display(Image(url= image_1, width=width, height=height), Image(url= image_2, width=width, height=height))\n",
    "    # display(Image(url= image_2, width=width, height=height))\n",
    "    tdstyle=style='vertical-align: bottom;background-color:white'\n",
    "    html_str = \"<table><tr><td style='\"+tdstyle+\"'><img src=\"+image_1+\" height=\"+str(height)+\" width=\"+str(width)+\"></td><td style='\"+tdstyle+\"'><img src=\"+image_2+\" height=\"+str(height)+\" width=\"+str(width)+\"/></td></tr></table>\"\n",
    "    display_html(html_str, raw=True)\n",
    "    return None   \n",
    "\n",
    "\n",
    "displayPdfDescription = \"Display an image within a cell of the notebook.\"\n",
    "displayPdfParamDef = {\"image\":{  \"name\":\"Image file URL\", \"type\":\"file\", \"kinds\":[\"pdf\", \"PDF\"]}, \n",
    "                        \"image_1\":{\"name\":\"First image file URL\", \"type\":\"file\", \"kinds\":[\"pdf\", \"PDF\"]}, \n",
    "                        \"height\": {\"type\": \"number\", \"optional\": True}, \n",
    "                        \"width\": {\"type\":\"number\", \"optional\": True}, \n",
    "                        \"output_var\":{\"hide\":True }}\n",
    "\n",
    "\n",
    "\n",
    "class PDF(object):\n",
    "  def __init__(self, pdf, size=(200,200)):\n",
    "    self.pdf = pdf\n",
    "    self.size = size\n",
    "\n",
    "  def _repr_html_(self):\n",
    "    return '<iframe src={0} width={1[0]} height={1[1]}></iframe>'.format(self.pdf, self.size)\n",
    "\n",
    "  def _repr_latex_(self):\n",
    "    return r'\\includegraphics[width=1.0\\textwidth]{{{0}}}'.format(self.pdf)\n",
    "\n",
    "def displayPdf(image, height, width):\n",
    "    return PDF(image,size=(width,height))\n",
    "\n",
    "\n",
    "@genepattern.build_ui(name=\"Load Functions\", description=\"Loads local functions used in this notebook\",  collapse=False, parameters={ \"output_var\":{\"hide\":True }})\n",
    "def loadFunctions():\n",
    "    print(\"Utility functions loaded\");"
   ]
  },
  {
   "cell_type": "markdown",
   "metadata": {},
   "source": [
    "## STREAM Sample Data\n",
    "   \n",
    "   For this notebook we will be using a dataset from \"A single-cell resolution map of mouse hematopoietic stem and progenitor cell differentiation\". This dataset can be downloaded from https://www.dropbox.com/sh/dfqht1ob89ku99d/AACI5ZW3aRuq9MhBfSNS_1O_a?dl=0   \n",
    "   \n",
    "\n",
    "This dataset contains 1656 sorted and profiled single cells including hematopoietic stem cells (HSCs), multipotent progenitors (MPPs), lymphoid multipotent progenitors (LMPPs), common myeloid progenitors (CMPs), granulocyte-monocyte progenitors (GMPs) and megakaryocyte-erythrocyte progenitors (MEPs), to study the mouse hematopoietic stem and progenitor cell differentiation processes. \n",
    "   \n",
    "Ref: Nestorowa, S. et al. A single-cell resolution map of mouse hematopoietic stem and progenitor cell differentiation. Blood 128, e20-31 (2016)."
   ]
  },
  {
   "cell_type": "markdown",
   "metadata": {},
   "source": [
    "<div class=\"alert alert-info\">\n",
    "<p class=\"lead\"> Instructions <i class=\"fa fa-info-circle\"></i></p>\n",
    "    \n",
    "Click the 'Run' button to have links to sample data added to your notebook.\n",
    "</div>"
   ]
  },
  {
   "cell_type": "code",
   "execution_count": 16,
   "metadata": {
    "nbtools": {
     "description": "",
     "name": "getSampleSTREAMFiles",
     "origin": "Notebook",
     "param_values": {
      "cancerType": "",
      "output_var": ""
     },
     "show_code": false,
     "type": "uibuilder"
    }
   },
   "outputs": [
    {
     "data": {
      "application/vnd.jupyter.widget-view+json": {
       "model_id": "522c775af9884457bdc6f8631f944c05",
       "version_major": 2,
       "version_minor": 0
      },
      "text/plain": [
       "UIBuilder(collapse=False, function_import='nbtools.tool(id=\"getSampleSTREAMFiles\", origin=\"Notebook\").function…"
      ]
     },
     "metadata": {},
     "output_type": "display_data"
    },
    {
     "data": {
      "application/javascript": [
       "\n",
       "            NBToolManager.instance().register(new NBToolManager.NBTool({\n",
       "                origin: \"Notebook\",\n",
       "                id: \"getSampleSTREAMFiles\",\n",
       "                name: \"getSampleSTREAMFiles\",\n",
       "                description: \"\",\n",
       "                version: \"null\",\n",
       "                tags: null,\n",
       "                attributes: null,\n",
       "                load: function() { return true; },\n",
       "                render: function() { let code = \"nbtools.tool(id='getSampleSTREAMFiles', origin='Notebook')\";\n",
       "                let cell = Jupyter.notebook.get_selected_cell();\n",
       "                const is_empty = cell.get_text().trim() === \"\";\n",
       "\n",
       "                // If this cell is not empty, insert a new cell and use that\n",
       "                // Otherwise just use this cell\n",
       "                if (!is_empty) {\n",
       "                    cell = Jupyter.notebook.insert_cell_below();\n",
       "                    Jupyter.notebook.select_next();\n",
       "                }\n",
       "\n",
       "                cell.set_text(code);\n",
       "                cell.execute();\n",
       "\n",
       "                return cell; },\n",
       "            }));"
      ]
     },
     "metadata": {},
     "output_type": "display_data"
    }
   ],
   "source": [
    "@genepattern.build_ui(collapse=False, parameters={\n",
    "   \"output_var\": {\n",
    "        \"name\": \"results\",\n",
    "        \"description\": \"There are the results\",\n",
    "        \"hide\": True\n",
    "    }\n",
    "})\n",
    "def getSampleSTREAMFiles():\n",
    "    # URL or file path relative to the notebook's directory\n",
    "    exp_path = 'https://datasets.genepattern.org/data/module_support_files/STREAM/data_Nestorowa.tsv.gz'\n",
    "    cn_path = 'https://datasets.genepattern.org/data/module_support_files/STREAM/cell_label_color.tsv.gz'\n",
    "    meth_path = 'https://datasets.genepattern.org/data/module_support_files/STREAM/cell_label.tsv.gz'\n",
    "\n",
    "    return genepattern.GPUIOutput(files=[exp_path, cn_path, meth_path])"
   ]
  },
  {
   "cell_type": "markdown",
   "metadata": {},
   "source": [
    "# Preprocessing\n",
    "\n",
    "Here we will first normalize the raw gene expression values based on library size, then the gene expression values will be log transformed. The mitochondrial genes will be removed.\n",
    "\n",
    "With this module we can filter out cells based on several cell-centric metrics, including the minimum number of genes expressed, the minimum percentage of genes expressed, and the minimum number of read counts for one cell.\n",
    "\n",
    "We can also filter out genes based on several gene-centric metrics, including the minimum number of cells expressing one gene, the minimum percentage of cells expressing one gene, and the minimum number of read counts for one gene.\n",
    "\n",
    "Finally, this module writes the dataset into the pkl format used by the rest of the modules in the STREAM collection."
   ]
  },
  {
   "cell_type": "markdown",
   "metadata": {},
   "source": [
    "<div class=\"alert alert-info\">\n",
    "<p class=\"lead\"> Instructions - Preprocessing<i class=\"fa fa-info-circle\"></i></p>\n",
    "<ol>\n",
    "    <li>Set the following parameter values in the STREAM.Preprocess module form below<br/>\n",
    "        <UL>\n",
    "            <LI>Data File - select <b>data_Nestorowa.tsv.gz</b> from the drop-down selector.</LI>\n",
    "            <LI>cell label file - select <b>cell_label.tsv.gz</b> from the drop-down selector.</LI>\n",
    "            <LI>cell label color select <b>file - cell_label_color.tsv.gz</b> from the drop-down selector.</LI>\n",
    "            <LI>output filename - <b>nestorowa</b></LI>\n",
    "            <LI>min num cells - <b>5</b></LI>\n",
    "            <li>expression cutoff - <b>1</b></li>\n",
    "            <li>All other parameters should be 0 or False.</li>\n",
    "        </UL>\n",
    "    </li>\n",
    "    <li>Click the Run Button</li>\n",
    "</ol>\n",
    "</div>"
   ]
  },
  {
   "cell_type": "code",
   "execution_count": 30,
   "metadata": {
    "genepattern": {
     "description": "Preprocess single cell RNA-seq data to prepare it for the STREAM trajectory analysis.",
     "name": "STREAM.Preprocess",
     "param_values": {
      "cell.label.color.file": null,
      "cell.label.file": null,
      "data.file": null,
      "expression.cutoff": null,
      "job.cpuCount": null,
      "job.memory": null,
      "job.queue": null,
      "job.walltime": null,
      "log.transform": null,
      "min.count.cells": null,
      "min.count.genes": null,
      "min.num.cells": null,
      "min.percent.cells": null,
      "min.percent.genes": null,
      "normalize": null,
      "output.filename": null,
      "remove.mitochondrial.genes": null
     },
     "type": "task"
    }
   },
   "outputs": [
    {
     "data": {
      "application/vnd.jupyter.widget-view+json": {
       "model_id": "b15a13bcf54c46928e53a7f33273f556",
       "version_major": 2,
       "version_minor": 0
      },
      "text/plain": [
       "GPTaskWidget(lsid='urn:lsid:broad.mit.edu:cancer.software.genepattern.module.analysis:00395')"
      ]
     },
     "metadata": {},
     "output_type": "display_data"
    }
   ],
   "source": [
    "stream_preprocess_task = gp.GPTask(genepattern.session.get(0), 'urn:lsid:broad.mit.edu:cancer.software.genepattern.module.analysis:00395')\n",
    "stream_preprocess_job_spec = stream_preprocess_task.make_job_spec()\n",
    "stream_preprocess_job_spec.set_parameter(\"data.file\", \"https://datasets.genepattern.org/data/module_support_files/STREAM/data_Nestorowa.tsv.gz\")\n",
    "stream_preprocess_job_spec.set_parameter(\"cell.label.file\", \"https://datasets.genepattern.org/data/module_support_files/STREAM/cell_label.tsv.gz\")\n",
    "stream_preprocess_job_spec.set_parameter(\"cell.label.color.file\", \"https://datasets.genepattern.org/data/module_support_files/STREAM/cell_label_color.tsv.gz\")\n",
    "stream_preprocess_job_spec.set_parameter(\"output.filename\", \"nestorowa\")\n",
    "stream_preprocess_job_spec.set_parameter(\"normalize\", \"\")\n",
    "stream_preprocess_job_spec.set_parameter(\"log.transform\", \"\")\n",
    "stream_preprocess_job_spec.set_parameter(\"remove.mitochondrial.genes\", \"\")\n",
    "stream_preprocess_job_spec.set_parameter(\"min.percent.genes\", \"0\")\n",
    "stream_preprocess_job_spec.set_parameter(\"min.count.genes\", \"0\")\n",
    "stream_preprocess_job_spec.set_parameter(\"min.percent.cells\", \"0\")\n",
    "stream_preprocess_job_spec.set_parameter(\"min.count.cells\", \"0\")\n",
    "stream_preprocess_job_spec.set_parameter(\"min.num.cells\", \"5\")\n",
    "stream_preprocess_job_spec.set_parameter(\"expression.cutoff\", \"1\")\n",
    "stream_preprocess_job_spec.set_parameter(\"job.memory\", \"8 Gb\")\n",
    "stream_preprocess_job_spec.set_parameter(\"job.queue\", \"gp-new-beta\")\n",
    "stream_preprocess_job_spec.set_parameter(\"job.cpuCount\", \"2\")\n",
    "stream_preprocess_job_spec.set_parameter(\"job.walltime\", \"1:00:00\")\n",
    "genepattern.display(stream_preprocess_task)"
   ]
  },
  {
   "cell_type": "markdown",
   "metadata": {},
   "source": [
    "## Feature selection"
   ]
  },
  {
   "cell_type": "markdown",
   "metadata": {},
   "source": [
    "Two types of features can be used for the downstream analysis\n",
    "\n",
    "* variable genes\n",
    "* top principal components\n",
    "\n",
    "For transcriptomic data (single-cell RNA-seq or qPCR), the input of STREAM is a gene expression matrix, where rows represent genes, and columns represent cells. Each entry contains an adjusted gene expression value (normalized for library size and log2 transformed). \n",
    "\n",
    "By default the most variable genes are selected as features. Briefly, for each gene, its mean value and standard deviation are calculated across all the cells. Then a non-parametric local regression method (LOESS) is used to fit the relationship between mean and standard deviation values. Genes above the curve that diverge significantly are selected as the most variable genes. \n",
    "\n",
    "Alternatively, users can also perform PCA on the scaled matrix and select the top principal components based on the variance ratio elbow plot.\n"
   ]
  },
  {
   "cell_type": "markdown",
   "metadata": {},
   "source": [
    "<div class=\"alert alert-info\">\n",
    "<p class=\"lead\"> Instructions - Feature Selection <i class=\"fa fa-info-circle\"></i></p>\n",
    "<ol>\n",
    "    <li>Set the following parameter values in the STREAM.FeatureSelection module form below<br/>\n",
    "        <UL>\n",
    "            <LI>Data File - select <b>nestorowa_stream_result.pkl</b> from the drop-down selector.</LI>\n",
    "            <LI>output filename - <b>fs</b></LI>\n",
    "            <LI>find variable genes - <b>True</b></LI>\n",
    "            <li>loess fraction - <b>0.1</b></li>\n",
    "            <li>percentile - <b>95</b></li>\n",
    "            <li>find principal components - <b>False</b></li>\n",
    "            <li>All other parameters should be left at their defaults or False.</li>\n",
    "        </UL>\n",
    "    </li>\n",
    "    <li>Click the Run Button</li>\n",
    "</ol> \n",
    "</div>"
   ]
  },
  {
   "cell_type": "code",
   "execution_count": 31,
   "metadata": {
    "genepattern": {
     "description": "Select either or both of the most variable genes and then find the principal components using PCA. These will then be available for the downstram trajectory analysis.  ",
     "name": "STREAM.FeatureSelection",
     "param_values": {
      "data.file": null,
      "feature": null,
      "figure.height": null,
      "figure.width": null,
      "find.principal.components": null,
      "find.variable.genes": null,
      "first.principal.component": null,
      "job.cpuCount": null,
      "job.memory": null,
      "job.queue": null,
      "job.walltime": null,
      "loess.fraction": null,
      "max.principal.components": null,
      "num.genes": null,
      "num.principal.components": null,
      "output.filename": null,
      "percentile": null,
      "use.precomputed": null
     },
     "type": "task"
    }
   },
   "outputs": [
    {
     "data": {
      "application/vnd.jupyter.widget-view+json": {
       "model_id": "ee3cc49268a44b1b94915ddbbf27ddda",
       "version_major": 2,
       "version_minor": 0
      },
      "text/plain": [
       "GPTaskWidget(lsid='urn:lsid:broad.mit.edu:cancer.software.genepattern.module.analysis:00396')"
      ]
     },
     "metadata": {},
     "output_type": "display_data"
    }
   ],
   "source": [
    "stream_featureselection_task = gp.GPTask(genepattern.session.get(0), 'urn:lsid:broad.mit.edu:cancer.software.genepattern.module.analysis:00396')\n",
    "stream_featureselection_job_spec = stream_featureselection_task.make_job_spec()\n",
    "stream_featureselection_job_spec.set_parameter(\"data.file\", \"\")\n",
    "stream_featureselection_job_spec.set_parameter(\"loess.fraction\", \"0.1\")\n",
    "stream_featureselection_job_spec.set_parameter(\"percentile\", \"95\")\n",
    "stream_featureselection_job_spec.set_parameter(\"num.genes\", \"\")\n",
    "stream_featureselection_job_spec.set_parameter(\"output.filename\", \"fs\")\n",
    "stream_featureselection_job_spec.set_parameter(\"feature\", \"var_genes\")\n",
    "stream_featureselection_job_spec.set_parameter(\"find.variable.genes\", \"--flag_variable\")\n",
    "stream_featureselection_job_spec.set_parameter(\"find.principal.components\", \"\")\n",
    "stream_featureselection_job_spec.set_parameter(\"num.principal.components\", \"15\")\n",
    "stream_featureselection_job_spec.set_parameter(\"max.principal.components\", \"100\")\n",
    "stream_featureselection_job_spec.set_parameter(\"first.principal.component\", \"\")\n",
    "stream_featureselection_job_spec.set_parameter(\"use.precomputed\", \"--flag_useprecomputed\")\n",
    "stream_featureselection_job_spec.set_parameter(\"figure.height\", \"8\")\n",
    "stream_featureselection_job_spec.set_parameter(\"figure.width\", \"8\")\n",
    "stream_featureselection_job_spec.set_parameter(\"job.memory\", \"8 Gb\")\n",
    "stream_featureselection_job_spec.set_parameter(\"job.queue\", \"gp-new-beta\")\n",
    "stream_featureselection_job_spec.set_parameter(\"job.cpuCount\", \"2\")\n",
    "stream_featureselection_job_spec.set_parameter(\"job.walltime\", \"1:00:00\")\n",
    "genepattern.display(stream_featureselection_task)"
   ]
  },
  {
   "cell_type": "markdown",
   "metadata": {},
   "source": [
    "<div class=\"alert alert-info\">\n",
    "<p class=\"lead\"> Instructions <i class=\"fa fa-info-circle\"></i></p>\n",
    "    <ol>\n",
    "        <li>Set the <b>\"Image File Url\"</b> parameter to <b>\"fs_variable_genes.png\"</b> from the job result above.  This can be selected from the drop-down selector for the parameter.</li>\n",
    "        <li>Click 'Run'.</li>\n",
    "    </ol>\n",
    "    Note:  this cell may report an error stating \"ERROR! Session/line number was not unique in database. History logging moved to new session\".  This can be safely ignored.\n",
    "</div>"
   ]
  },
  {
   "cell_type": "code",
   "execution_count": 17,
   "metadata": {
    "nbtools": {
     "description": "Display an image within a cell of the notebook.",
     "name": "Display variable genes scatterplot",
     "origin": "Notebook",
     "param_values": {
      "fileUrl": [
       "https://beta.genepattern.org/gp/jobResults/52236/fs_variable_genes.png"
      ],
      "height": "600",
      "image": [],
      "output_var": "",
      "width": "600"
     },
     "show_code": false,
     "type": "uibuilder"
    }
   },
   "outputs": [
    {
     "data": {
      "application/vnd.jupyter.widget-view+json": {
       "model_id": "c4d646330d4e41e28ccf914f77c1b67c",
       "version_major": 2,
       "version_minor": 0
      },
      "text/plain": [
       "UIBuilder(collapse=False, description='Display an image within a cell of the notebook.', function_import='nbto…"
      ]
     },
     "metadata": {},
     "output_type": "display_data"
    }
   ],
   "source": [
    "genepattern.GPUIBuilder(displayImage, collapse=False,\n",
    "                        name=\"Display variable genes scatterplot\",\n",
    "                        description=displayImageDescription,\n",
    "                        parameters=displayImageParamDef)"
   ]
  },
  {
   "cell_type": "markdown",
   "metadata": {},
   "source": [
    "## Dimension Reduction\n",
    "\n",
    "Each cell can be thought of as a vector in a multi-dimensional vector space in which each component is the expression level of a gene. Typically, even after feature selection, each cell still has hundreds of components, making it difficult to reliably assess similarity or distances between cells, a problem often referred as the curse of dimensionality. To mitigate this problem, starting from the genes selected in the previous step we project cells to a lower dimensional space using a non-linear dimensionality reduction method called Modified Locally Linear Embedding (MLLE).\n",
    "\n",
    "Several alternative dimension reduction methods are also supported, **spectral embedding**, **umap**, and **pca**.\n",
    "By default the **MLLE** method is used.\n",
    "\n",
    "For large datasets, spectral embedding works faster than MLLE while preserving a similar compact structure to MLLE.\n",
    "\n",
    "For large datasets, lowering the percentage of neighbor cells parameter (0.1 by default) will speed up this step.\n",
    "\n",
    "By default we set the number of components to 3.  For biological process with simple bifurcation or linear trajectory, keeping only two components would be recommended.\n"
   ]
  },
  {
   "cell_type": "markdown",
   "metadata": {},
   "source": [
    "<div class=\"alert alert-info\">\n",
    "<p class=\"lead\"> Instructions - Dimension Reduction <i class=\"fa fa-info-circle\"></i></p>\n",
    "<ol>\n",
    "    <li>Set the following parameter values in the STREAM.DimensionReduction module form below<br/>\n",
    "        <UL>\n",
    "            <LI>Data File - select the result of the Feature Selection run from the file dropdown, <b>fs_stream_result.pkl</b></LI>\n",
    "            <LI>output filename - <b>dr</b></LI>\n",
    "            <li>feature - <b>most variable genes</b></li>\n",
    "            <LI>method - <b>Modified Locally linear embedding algoritm (MLLE)</b></LI>\n",
    "            <li>All other parameters should be defaults or False.</li>\n",
    "        </UL>\n",
    "    </li>\n",
    "    <li>Click the Run Button</li>\n",
    "</ol>\n",
    "</div>"
   ]
  },
  {
   "cell_type": "code",
   "execution_count": 34,
   "metadata": {
    "genepattern": {
     "description": "Perform dimension reduction on the dataset.",
     "name": "STREAM.DimensionReduction",
     "param_values": {
      "component.x": null,
      "component.y": null,
      "data.file": null,
      "feature": null,
      "figure.height": null,
      "figure.legend.num.columns": null,
      "figure.width": null,
      "job.cpuCount": null,
      "job.memory": null,
      "job.queue": null,
      "job.walltime": null,
      "method": null,
      "num.components.to.keep": null,
      "num.components.to.plot": null,
      "output.filename": null,
      "percent.neighbor.cells": null
     },
     "type": "task"
    },
    "scrolled": false
   },
   "outputs": [
    {
     "data": {
      "application/vnd.jupyter.widget-view+json": {
       "model_id": "cdcd42577b93429abeee6489b49aa9a2",
       "version_major": 2,
       "version_minor": 0
      },
      "text/plain": [
       "GPTaskWidget(lsid='urn:lsid:broad.mit.edu:cancer.software.genepattern.module.analysis:00397')"
      ]
     },
     "metadata": {},
     "output_type": "display_data"
    }
   ],
   "source": [
    "stream_dimensionreduction_task = gp.GPTask(genepattern.session.get(0), 'urn:lsid:broad.mit.edu:cancer.software.genepattern.module.analysis:00397')\n",
    "stream_dimensionreduction_job_spec = stream_dimensionreduction_task.make_job_spec()\n",
    "stream_dimensionreduction_job_spec.set_parameter(\"data.file\", \"\")\n",
    "stream_dimensionreduction_job_spec.set_parameter(\"output.filename\", \"dr\")\n",
    "stream_dimensionreduction_job_spec.set_parameter(\"percent.neighbor.cells\", \".1\")\n",
    "stream_dimensionreduction_job_spec.set_parameter(\"num.components.to.keep\", \"3\")\n",
    "stream_dimensionreduction_job_spec.set_parameter(\"feature\", \"var_genes\")\n",
    "stream_dimensionreduction_job_spec.set_parameter(\"method\", \"mlle\")\n",
    "stream_dimensionreduction_job_spec.set_parameter(\"num.components.to.plot\", \"3\")\n",
    "stream_dimensionreduction_job_spec.set_parameter(\"component.x\", \"0\")\n",
    "stream_dimensionreduction_job_spec.set_parameter(\"component.y\", \"1\")\n",
    "stream_dimensionreduction_job_spec.set_parameter(\"figure.width\", \"8\")\n",
    "stream_dimensionreduction_job_spec.set_parameter(\"figure.legend.num.columns\", \"3\")\n",
    "stream_dimensionreduction_job_spec.set_parameter(\"figure.height\", \"8\")\n",
    "stream_dimensionreduction_job_spec.set_parameter(\"job.memory\", \"8 Gb\")\n",
    "stream_dimensionreduction_job_spec.set_parameter(\"job.queue\", \"gp-new-beta\")\n",
    "stream_dimensionreduction_job_spec.set_parameter(\"job.cpuCount\", \"2\")\n",
    "stream_dimensionreduction_job_spec.set_parameter(\"job.walltime\", \"1:00:00\")\n",
    "genepattern.display(stream_dimensionreduction_task)"
   ]
  },
  {
   "cell_type": "markdown",
   "metadata": {},
   "source": [
    "<div class=\"alert alert-info\">\n",
    "<p class=\"lead\"> Instructions <i class=\"fa fa-info-circle\"></i></p>\n",
    "    <ol>\n",
    "        <li>Set the <b>\"Image File Url\"</b> parameter to <b>\"dr_stddev_dotplot.png\"</b> from the job result above.  This can be selected from the drop-down selector for the parameter.</li>\n",
    "        <li>Click 'Run'.</li>\n",
    "    </ol>\n",
    "    Note:  this cell may report an error stating \"ERROR! Session/line number was not unique in database. History logging moved to new session\".  This can be safely ignored.\n",
    "</div>"
   ]
  },
  {
   "cell_type": "code",
   "execution_count": 18,
   "metadata": {
    "nbtools": {
     "description": "Display an image within a cell of the notebook.",
     "name": "displayImage",
     "origin": "Notebook",
     "param_values": {
      "fileUrl": [
       "https://beta.genepattern.org/gp/jobResults/52237/dr_stddev_dotplot.png"
      ],
      "height": "600",
      "image": [],
      "output_var": "",
      "width": "600"
     },
     "show_code": false,
     "type": "uibuilder"
    }
   },
   "outputs": [
    {
     "data": {
      "application/vnd.jupyter.widget-view+json": {
       "model_id": "821fc4cd2149476a97fd307f28a05c59",
       "version_major": 2,
       "version_minor": 0
      },
      "text/plain": [
       "UIBuilder(collapse=False, description='Display an image within a cell of the notebook.', function_import='nbto…"
      ]
     },
     "metadata": {},
     "output_type": "display_data"
    }
   ],
   "source": [
    "genepattern.GPUIBuilder(displayImage, collapse=False,\n",
    "                        description=displayImageDescription,\n",
    "                        parameters=displayImageParamDef)"
   ]
  },
  {
   "cell_type": "markdown",
   "metadata": {},
   "source": [
    "### UMAP validation of cell population structure"
   ]
  },
  {
   "cell_type": "markdown",
   "metadata": {},
   "source": [
    "**This step is helpful only when keeping more than two components in the step of Dimension Reduction**  \n",
    "(Because in 3D or even higher-dimensional space, it is difficult to see the whole structure. UMAP or tSNE visualization can serve as an explicit summary for high-dimensional space.).\n",
    "\n",
    "Before we begin with the Elastic Principal Graph, we will check if there is clear meaningful trajectory pattern to the data.  If there is, we will continue the downstream analysis placing the cells onto the trajectories.  If not, we would go back to previous steps to modify the parameters used to filter and prepare the data to try different settings.\n",
    "\n",
    "To check the data, we will implement UMAP ot tSNE based on the components from the step of dimension reduction to visualize the data in 2D plane."
   ]
  },
  {
   "cell_type": "markdown",
   "metadata": {},
   "source": [
    "<div class=\"alert alert-info\">\n",
    "<p class=\"lead\"> Instructions - Validation of population structure <i class=\"fa fa-info-circle\"></i></p>\n",
    "<ol>\n",
    "    <li>Set the following parameter values in the STREAM.Plot2DVisualization module form below<br/>\n",
    "        <UL>\n",
    "            <LI>Data File - select the result of the Dimension Reduction run from the file dropdown, <b>dr_stream_result.pkl</b></LI>\n",
    "            <LI>output filename - <b>plotted</b></LI>\n",
    "            <LI>method - <b>Uniform Manifold Approximation and Projection (UMAP)</b></LI>\n",
    "            <li>percent neighbor cells - <b>0.1</b></li>\n",
    "            <li>color by - <b>label</b></li>\n",
    "            <li>use precomputed - <b>false</b></li>\n",
    "            <li>All other parameters should be defaults or False.</li>\n",
    "        </UL>\n",
    "    </li>\n",
    "    <li>Click the Run Button</li>\n",
    "</ol>\n",
    "</div>"
   ]
  },
  {
   "cell_type": "code",
   "execution_count": 35,
   "metadata": {
    "genepattern": {
     "description": "STREAM.FeatureSelection is used to check if there is clear meaningful trajectory pattern via TSNE or UMAP 2-D plots. If so, we can continue the STREAM analysis; If not, go back to previous steps (preprocessing, feature selection and dimension reduction) to modify the parameters.",
     "name": "STREAM.Plot2DVisualization",
     "param_values": {
      "InputData": null,
      "LocalThresholdType": null,
      "PercentileOrValue": null,
      "ReferenceModel": null,
      "SampleNumber": null,
      "ThreshType": null,
      "ThresholdLowerBound": null,
      "ThresholdUpperBound": null,
      "color.by": null,
      "data.file": null,
      "figure.height": null,
      "figure.legend.num.columns": null,
      "figure.width": null,
      "job.cpuCount": null,
      "job.memory": null,
      "job.queue": null,
      "job.walltime": null,
      "method": null,
      "output.filename": null,
      "percent.neighbor.cells": null,
      "perplexity": null,
      "use.precomputed": null
     },
     "show_code": true,
     "type": "task"
    }
   },
   "outputs": [
    {
     "data": {
      "application/vnd.jupyter.widget-view+json": {
       "model_id": "7d40d142c24649a4a70cb544bd880e50",
       "version_major": 2,
       "version_minor": 0
      },
      "text/plain": [
       "GPTaskWidget(lsid='urn:lsid:broad.mit.edu:cancer.software.genepattern.module.analysis:00406')"
      ]
     },
     "metadata": {},
     "output_type": "display_data"
    }
   ],
   "source": [
    "stream_plot2dvisualization_task = gp.GPTask(genepattern.session.get(0), 'urn:lsid:broad.mit.edu:cancer.software.genepattern.module.analysis:00406')\n",
    "stream_plot2dvisualization_job_spec = stream_plot2dvisualization_task.make_job_spec()\n",
    "stream_plot2dvisualization_job_spec.set_parameter(\"data.file\", \"\")\n",
    "stream_plot2dvisualization_job_spec.set_parameter(\"percent.neighbor.cells\", \"0.1\")\n",
    "stream_plot2dvisualization_job_spec.set_parameter(\"perplexity\", \"30\")\n",
    "stream_plot2dvisualization_job_spec.set_parameter(\"color.by\", \"label\")\n",
    "stream_plot2dvisualization_job_spec.set_parameter(\"method\", \"umap\")\n",
    "stream_plot2dvisualization_job_spec.set_parameter(\"use.precomputed\", \"\")\n",
    "stream_plot2dvisualization_job_spec.set_parameter(\"figure.width\", \"8\")\n",
    "stream_plot2dvisualization_job_spec.set_parameter(\"figure.legend.num.columns\", \"3\")\n",
    "stream_plot2dvisualization_job_spec.set_parameter(\"figure.height\", \"8\")\n",
    "stream_plot2dvisualization_job_spec.set_parameter(\"output.filename\", \"plotted\")\n",
    "stream_plot2dvisualization_job_spec.set_parameter(\"job.memory\", \"8 Gb\")\n",
    "stream_plot2dvisualization_job_spec.set_parameter(\"job.queue\", \"gp-new-beta\")\n",
    "stream_plot2dvisualization_job_spec.set_parameter(\"job.cpuCount\", \"2\")\n",
    "stream_plot2dvisualization_job_spec.set_parameter(\"job.walltime\", \"1:00:00\")\n",
    "genepattern.display(stream_plot2dvisualization_task)"
   ]
  },
  {
   "cell_type": "markdown",
   "metadata": {},
   "source": [
    "<div class=\"alert alert-info\">\n",
    "<p class=\"lead\"> Instructions <i class=\"fa fa-info-circle\"></i></p>\n",
    "    <ol>\n",
    "        <li>Set the <b>\"Image File Url\"</b> parameter to <b>\"plotted_2D_plot.png\"</b> from the job result above.  This can be selected from the drop-down selector for the parameter.</li>\n",
    "        <li>Click 'Run'.</li>\n",
    "    </ol>\n",
    "</div>"
   ]
  },
  {
   "cell_type": "code",
   "execution_count": 19,
   "metadata": {
    "nbtools": {
     "description": "Display an image within a cell of the notebook.",
     "name": "displayImage",
     "origin": "Notebook",
     "param_values": {
      "fileUrl": [
       "https://beta.genepattern.org/gp/jobResults/52238/plotted_2D_plot.png"
      ],
      "height": "600",
      "image": [],
      "output_var": "",
      "width": "600"
     },
     "show_code": false,
     "type": "uibuilder"
    }
   },
   "outputs": [
    {
     "data": {
      "application/vnd.jupyter.widget-view+json": {
       "model_id": "7144798609104dada6c0ed80a75b8653",
       "version_major": 2,
       "version_minor": 0
      },
      "text/plain": [
       "UIBuilder(collapse=False, description='Display an image within a cell of the notebook.', function_import='nbto…"
      ]
     },
     "metadata": {},
     "output_type": "display_data"
    }
   ],
   "source": [
    "genepattern.GPUIBuilder(displayImage, collapse=False,\n",
    "                        description=displayImageDescription,\n",
    "                        parameters=displayImageParamDef)"
   ]
  },
  {
   "cell_type": "markdown",
   "metadata": {},
   "source": [
    "# Structure Learning\n",
    "\n",
    "Elastic principal graphs are structured data approximators, consisting of vertices connected by edges. The vertices are embedded into the space of the data, minimizing the mean squared distance (MSD) to the data points, similarly to k-means. Unlike unstructured k-means, the edges connecting the vertices are used to define an elastic energy term. The elastic energy term and MSD are used to create penalties for edge stretching and bending of branches.\n",
    "\n",
    "The STREAM.ElasticPrincipalGraph module uses the R-language ElPiGraph implementation of Elastic Principal Graphs. To find the optimal graph structure, ElPiGraph uses a topological grammar (or, graph grammar) approach. ElPiGraph is a completely redesigned algorithm for the previously introduced elastic principal graph optimization based on the use of elastic matrix Laplacian, trimmed mean square error, explicit control of topological complexity and scalability to millions of points on an ordinary laptop.\n",
    "\n",
    "We will begin by seeding the EPG using the STREAM.SeedEPGStructure module and then with the result, we will run the ElPiGraph algorithm using the STREAM.ElasticPrincipalGraph module to generate our pseudotime trajectories.\n",
    "\n",
    "The principal graph inference is based on a greedy optimization procedure that may lead to local minima, therefore in STREAM we proposed an initialization procedure that improves the quality of the inferred solutions and that speed up convergence. First, cells are clustered in the low-dimensional space (by default, k-means is used. Alternatively another two clustering methods including affinity propagation(**ap**) and spectral clustering(**sc**) are also available). Based on the centroids obtained, a minimum spanning tree (MST) is constructed using the Kruskal’s algorithm. The obtained tree is then used as initial tree structure for the ElPiGraph procedure."
   ]
  },
  {
   "cell_type": "markdown",
   "metadata": {},
   "source": [
    "<div class=\"alert alert-info\">\n",
    "<p class=\"lead\"> Instructions - Seeding the Elastic Principal Graph <i class=\"fa fa-info-circle\"></i></p>\n",
    "<ol>\n",
    "    <li>Set the following parameter values in the STREAM.SeedEPGStructure module form below<br/>\n",
    "        <UL>\n",
    "            <span><b><i>Input and Output</i></b></span>\n",
    "            <LI>Data File - Select the <b>dr_stream_result.pkl</b> from the dropdown that represents the output of the DimensionReduction step above.</LI>\n",
    "            <LI>Output filename - <b>seeded</b></LI>\n",
    "            <span><b><i>Structure Learning</i></b></span>\n",
    "            <LI>Percent neighbor cells - <b>0.1</b></LI>\n",
    "            <li>Num clusters - <b>10</b></li>\n",
    "            <li>Damping - <b>0.75</b></li>\n",
    "            <li>Preference Percentile - <b>50</b></li>\n",
    "            <li>max clusters - <b>200</b></li>\n",
    "            <li>clustering - <b>K-means clustering</b></li>\n",
    "            <span><b><i>Plotting</i></b></span>\n",
    "            <li>num components - <b>3</b></li>\n",
    "            <li>Component X - <b>0</b></li>\n",
    "            <li>Component Y - <b>1</b></li>\n",
    "            <li>All other parameters should be left at their default values or empty.</li>\n",
    "        </UL></li>\n",
    "    <li>Click the Run Button</li>\n",
    "</ol>\n",
    "</div>"
   ]
  },
  {
   "cell_type": "code",
   "execution_count": 37,
   "metadata": {
    "genepattern": {
     "description": "Seeding the initial elastic principal graph prior to starting the trajectory learning process.",
     "name": "STREAM.SeedEPGStructure",
     "param_values": {
      "clustering": null,
      "component.x": null,
      "component.y": null,
      "damping": null,
      "data.file": null,
      "figure.height": null,
      "figure.legend.num.columns": null,
      "figure.width": null,
      "job.cpuCount": null,
      "job.memory": null,
      "job.queue": null,
      "job.walltime": null,
      "max.clusters": null,
      "num.clusters": null,
      "num.components": null,
      "output.filename": null,
      "percent.neighbor.cells": null,
      "preference.percentile": null
     },
     "type": "task"
    }
   },
   "outputs": [
    {
     "data": {
      "application/vnd.jupyter.widget-view+json": {
       "model_id": "253842618abf49b69c42aaa3087c01bc",
       "version_major": 2,
       "version_minor": 0
      },
      "text/plain": [
       "GPTaskWidget(lsid='urn:lsid:broad.mit.edu:cancer.software.genepattern.module.analysis:00398')"
      ]
     },
     "metadata": {},
     "output_type": "display_data"
    }
   ],
   "source": [
    "stream_seedepgstructure_task = gp.GPTask(genepattern.session.get(0), 'urn:lsid:broad.mit.edu:cancer.software.genepattern.module.analysis:00398')\n",
    "stream_seedepgstructure_job_spec = stream_seedepgstructure_task.make_job_spec()\n",
    "stream_seedepgstructure_job_spec.set_parameter(\"data.file\", \"\")\n",
    "stream_seedepgstructure_job_spec.set_parameter(\"num.components\", \"3\")\n",
    "stream_seedepgstructure_job_spec.set_parameter(\"percent.neighbor.cells\", \"0.1\")\n",
    "stream_seedepgstructure_job_spec.set_parameter(\"num.clusters\", \"10\")\n",
    "stream_seedepgstructure_job_spec.set_parameter(\"damping\", \"0.75\")\n",
    "stream_seedepgstructure_job_spec.set_parameter(\"preference.percentile\", \"50\")\n",
    "stream_seedepgstructure_job_spec.set_parameter(\"max.clusters\", \"200\")\n",
    "stream_seedepgstructure_job_spec.set_parameter(\"figure.width\", \"8\")\n",
    "stream_seedepgstructure_job_spec.set_parameter(\"figure.legend.num.columns\", \"3\")\n",
    "stream_seedepgstructure_job_spec.set_parameter(\"figure.height\", \"8\")\n",
    "stream_seedepgstructure_job_spec.set_parameter(\"output.filename\", \"seeded\")\n",
    "stream_seedepgstructure_job_spec.set_parameter(\"clustering\", \"kmeans\")\n",
    "stream_seedepgstructure_job_spec.set_parameter(\"component.x\", \"0\")\n",
    "stream_seedepgstructure_job_spec.set_parameter(\"component.y\", \"1\")\n",
    "stream_seedepgstructure_job_spec.set_parameter(\"job.memory\", \"8 Gb\")\n",
    "stream_seedepgstructure_job_spec.set_parameter(\"job.queue\", \"gp-new-beta\")\n",
    "stream_seedepgstructure_job_spec.set_parameter(\"job.cpuCount\", \"2\")\n",
    "stream_seedepgstructure_job_spec.set_parameter(\"job.walltime\", \"1:00:00\")\n",
    "genepattern.display(stream_seedepgstructure_task)"
   ]
  },
  {
   "cell_type": "markdown",
   "metadata": {},
   "source": [
    "<div class=\"alert alert-info\">\n",
    "<p class=\"lead\"> Instructions <i class=\"fa fa-info-circle\"></i></p>\n",
    "    <ol>\n",
    "        <li>Set the <b>\"First image File Url\"</b> parameter to <b>\"seeded_branches.png\"</b> from the job result above.  This can be selected from the drop-down selector for the parameter.</li>\n",
    "        <li>Set the <b>\"Second image File Url\"</b> parameter to <b>\"seeded_branches_with_cells.png\"</b> from the job result above.  This can be selected from the drop-down selector for the parameter.</li>\n",
    "        <li>Click 'Run'.</li>\n",
    "    </ol>\n",
    "</div>"
   ]
  },
  {
   "cell_type": "code",
   "execution_count": 20,
   "metadata": {
    "nbtools": {
     "description": "Display an image within a cell of the notebook.",
     "name": "displayImagePair",
     "origin": "Notebook",
     "param_values": {
      "height": "500",
      "image_1": [],
      "image_2": [],
      "output_var": "",
      "width": "500"
     },
     "show_code": false,
     "type": "uibuilder"
    }
   },
   "outputs": [
    {
     "data": {
      "application/vnd.jupyter.widget-view+json": {
       "model_id": "2a7dcf4bc1a14b36987997cc00d123af",
       "version_major": 2,
       "version_minor": 0
      },
      "text/plain": [
       "UIBuilder(collapse=False, description='Display an image within a cell of the notebook.', function_import='nbto…"
      ]
     },
     "metadata": {},
     "output_type": "display_data"
    }
   ],
   "source": [
    "genepattern.GPUIBuilder(displayImagePair, collapse=False,\n",
    "                        description=displayImageDescription,\n",
    "                        parameters=displayImageParamDef)"
   ]
  },
  {
   "cell_type": "markdown",
   "metadata": {},
   "source": [
    "\n",
    "Now that we have seeded the elastic principal graph, we will turn the module loose to learn the graph and generate the pseudotime trajectories. \n",
    "\n",
    "Elastic principal graphs are structured data approximators, consisting of vertices connected by edges. The vertices are embedded into the space of the data, minimizing the mean squared distance (MSD) to the data points, similarly to k-means. Unlike unstructured k-means, the edges connecting the vertices are used to define an elastic energy term. The elastic energy term and MSD are used to create penalties for edge stretching and bending of branches. To find the optimal graph structure, ElPiGraph uses a topological grammar (or, graph grammar) approach, which is described below. \n",
    "\n",
    "Briefly, an elastic principal graph is an undirected graph with a set of vertices V and a set of edges E. The set of vertices V is embedded in the multidimensional space by minimizing the sum of the data approximation term and the graph elastic energy. Elastic principal graphs are based on minimization of the energy potential containing three parts :\n",
    "\n",
    "$$U = MSE + \\lambda U_E + \\mu U_R$$\n",
    "\n",
    "where MSE is the mean squared error of data approximation, $U_E$ is the sum of squared edge lengths, $U_R$ is a term minimizing the deviation of the principal graph embedment from harmonicity, equation , $\\lambda$, $\\mu$ are coefficients of regularization.\n",
    "\n",
    "*$epg\\ trimming\\ radius$*, *$epg\\ lambda$*, and *$epg\\ mu$* are parameters having the following meaning: *$epg\\ trimming\\ radius$* is the trimming radius such that points further than *$epg\\ trimming\\ radius$* from any node do not contribute to the optimization of the graph, *$epg\\ lambda$* is the edge stretching elasticity modulo regularizing the total length of the graph edges and making their distribution close to equidistant in the multidimensional space, *$epg\\ mu$* is the star bending elasticity modulo controlling the deviation of the graph stars from harmonic configurations."
   ]
  },
  {
   "cell_type": "markdown",
   "metadata": {},
   "source": [
    "<div class=\"alert alert-info\">\n",
    "<p class=\"lead\"> Instructions - Generating the Elastic Principal Graph <i class=\"fa fa-info-circle\"></i></p>\n",
    "\n",
    "<ol>\n",
    "    <li>Set the following parameter values in the STREAM.ElasticPrincipalGraph module form below<br/>\n",
    "        <UL>\n",
    "            <LI>Data File - select the result of the Dimension Reduction run from the file dropdown,     <b>seeded_stream_result.pkl</b></LI>\n",
    "            <LI>output filename - <b>epg</b> </LI>\n",
    "            <li>All other parameters should be defaults or False.</li>\n",
    "        </UL>\n",
    "    </li>\n",
    "    <li>Click the Run Button</li>\n",
    "</ol>\n",
    "</div>"
   ]
  },
  {
   "cell_type": "code",
   "execution_count": 40,
   "metadata": {
    "genepattern": {
     "description": "",
     "name": "STREAM.ElasticPrincipalGraph",
     "param_values": {
      "component.x": null,
      "component.y": null,
      "data.file": null,
      "epg.alpha": null,
      "epg.beta": null,
      "epg.final.energy": null,
      "epg.lambda": null,
      "epg.mu": null,
      "epg.num.nodes": null,
      "epg.trimming.radius": null,
      "figure.height": null,
      "figure.legend.num.columns": null,
      "figure.width": null,
      "incremental.number.of.nodes": null,
      "job.cpuCount": null,
      "job.memory": null,
      "job.queue": null,
      "job.walltime": null,
      "num.components": null,
      "output.filename": null
     },
     "type": "task"
    },
    "scrolled": false
   },
   "outputs": [
    {
     "data": {
      "application/vnd.jupyter.widget-view+json": {
       "model_id": "5c990543b656411394d6eb789a433e07",
       "version_major": 2,
       "version_minor": 0
      },
      "text/plain": [
       "GPTaskWidget(lsid='urn:lsid:broad.mit.edu:cancer.software.genepattern.module.analysis:00399')"
      ]
     },
     "metadata": {},
     "output_type": "display_data"
    }
   ],
   "source": [
    "stream_elasticprincipalgraph_task = gp.GPTask(genepattern.session.get(0), 'urn:lsid:broad.mit.edu:cancer.software.genepattern.module.analysis:00399')\n",
    "stream_elasticprincipalgraph_job_spec = stream_elasticprincipalgraph_task.make_job_spec()\n",
    "stream_elasticprincipalgraph_job_spec.set_parameter(\"data.file\", \"\")\n",
    "stream_elasticprincipalgraph_job_spec.set_parameter(\"epg.beta\", \"0.0\")\n",
    "stream_elasticprincipalgraph_job_spec.set_parameter(\"figure.width\", \"8\")\n",
    "stream_elasticprincipalgraph_job_spec.set_parameter(\"figure.legend.num.columns\", \"3\")\n",
    "stream_elasticprincipalgraph_job_spec.set_parameter(\"figure.height\", \"8\")\n",
    "stream_elasticprincipalgraph_job_spec.set_parameter(\"output.filename\", \"epg_\")\n",
    "stream_elasticprincipalgraph_job_spec.set_parameter(\"epg.num.nodes\", \"50\")\n",
    "stream_elasticprincipalgraph_job_spec.set_parameter(\"incremental.number.of.nodes\", \"30\")\n",
    "stream_elasticprincipalgraph_job_spec.set_parameter(\"epg.trimming.radius\", \"Inf\")\n",
    "stream_elasticprincipalgraph_job_spec.set_parameter(\"component.x\", \"0\")\n",
    "stream_elasticprincipalgraph_job_spec.set_parameter(\"component.y\", \"1\")\n",
    "stream_elasticprincipalgraph_job_spec.set_parameter(\"num.components\", \"3\")\n",
    "stream_elasticprincipalgraph_job_spec.set_parameter(\"epg.alpha\", \"0.02\")\n",
    "stream_elasticprincipalgraph_job_spec.set_parameter(\"epg.lambda\", \"0.02\")\n",
    "stream_elasticprincipalgraph_job_spec.set_parameter(\"epg.mu\", \"0.1\")\n",
    "stream_elasticprincipalgraph_job_spec.set_parameter(\"epg.final.energy\", \"Penalized\")\n",
    "stream_elasticprincipalgraph_job_spec.set_parameter(\"job.memory\", \"8 Gb\")\n",
    "stream_elasticprincipalgraph_job_spec.set_parameter(\"job.queue\", \"gp-new-beta\")\n",
    "stream_elasticprincipalgraph_job_spec.set_parameter(\"job.cpuCount\", \"2\")\n",
    "stream_elasticprincipalgraph_job_spec.set_parameter(\"job.walltime\", \"1:00:00\")\n",
    "genepattern.display(stream_elasticprincipalgraph_task)"
   ]
  },
  {
   "cell_type": "markdown",
   "metadata": {},
   "source": [
    "<div class=\"alert alert-info\">\n",
    "<p class=\"lead\"> Instructions <i class=\"fa fa-info-circle\"></i></p>\n",
    "    <ol>\n",
    "        <li>Set the <b>\"First image File Url\"</b> parameter to <b>\"epg_branches.png\"</b> from the job result above.  This can be selected from the drop-down selector for the parameter.</li>\n",
    "        <li>Set the <b>\"Second image File Url\"</b> parameter to <b>\"epg_branches_with_cells.png\"</b> from the job result above.  This can be selected from the drop-down selector for the parameter.</li>\n",
    "        <li>Click 'Run'.</li>\n",
    "    </ol>\n",
    "</div>"
   ]
  },
  {
   "cell_type": "code",
   "execution_count": 21,
   "metadata": {
    "nbtools": {
     "description": "Display an image within a cell of the notebook.",
     "name": "displayImagePair",
     "origin": "Notebook",
     "param_values": {
      "height": "500",
      "image_1": [],
      "image_2": [],
      "output_var": "",
      "width": "500"
     },
     "show_code": false,
     "type": "uibuilder"
    },
    "scrolled": true
   },
   "outputs": [
    {
     "data": {
      "application/vnd.jupyter.widget-view+json": {
       "model_id": "1106b15448664fef83a86adcf57fbfc4",
       "version_major": 2,
       "version_minor": 0
      },
      "text/plain": [
       "UIBuilder(collapse=False, description='Display an image within a cell of the notebook.', function_import='nbto…"
      ]
     },
     "metadata": {},
     "output_type": "display_data"
    }
   ],
   "source": [
    "genepattern.GPUIBuilder(displayImagePair, collapse=False,\n",
    "                        description=displayImageDescription,\n",
    "                        parameters=displayImageParamDef)"
   ]
  },
  {
   "cell_type": "markdown",
   "metadata": {},
   "source": [
    "Although ElPiGraph is a general approach to construct principal trees (and other topologies), the obtained structures may not optimally describe biologically relevant trajectories or accurately capture pseudotime information based on single-cell data. Therefore, in addition to the described seeding strategy, in STREAM several single-cell specific optimizations were introduced to the core algorithm of ElPiGraph:\n",
    "\n",
    "<img src=\"https://github.com/pinellolab/STREAM/raw/master/tutorial/img/Sup_Figure01.png\" width=\"600\">\n",
    "\n",
    "\n",
    "* **Control over-branching**: A regularization parameter α with range (0,1] was introduced to explicitly control the complexity of the resulting graph structure. Larger values of α lower the propensity of ElPiGraph to introduce branching points. An extreme value close to one prevents the creation of new branches not present in the initial seeding structure. Users can control this parameter based on the expected characteristics of noise and dimensionality of the data. By default, α is set 0.02 and this value was used for all the analyses performed.(It is integrated into step `Elastic Principal Graphs`)\n",
    "* **Prune branches**: The standard elastic principal graph favors harmonicity, i.e., star-shape subgraphs with a central node connected with equally spaced nodes. We have observed that this may lead to trivial branches with few cells. With the pruning grammar rule, STREAM is able to remove branches that are either associated with an excessively small number of cells or that are shorter than a minimal length. This step helps to get rid of spurious and unnecessary branching events that may not reflect real developmental trajectories.(It is implemented in `Prune Graph`)\n",
    "* **Shift branching nodes**: To minimize the elastic principal graph energy, ElPiGraph balances the reconstruction error, total length of edges, and the graph harmonicity. However, it may happen that the optimal solution places branching nodes to low-density regions with few cells. This can be hard to interpret biologically since these nodes should correspond to branching cell states within the cell population. With the shift branching grammar rule, each branching node is repositioned to the closest area with higher cell density to better match the most plausible region corresponding to the true branching event. (It is not currently supported yet. We will add it in the next release.)\n",
    "* **Finetune branching nodes**: The standard elastic principal graph procedure well summarizes the principal structure. However, branching sections (i.e., regions close to branching events) may be not described in sufficient details by the obtained curves due to the limited number of nodes used around branching nodes by the global optimization. This grammar rule is able to optimize the space around branching nodes by locally adding a set of nodes in their proximity to better characterize branching events and to improve the pseudotime inference. (It is implemented in `Optimize Structure`)\n",
    "* **Extend leaf nodes**: The standard elastic principal graph penalizes the total edge length to more robustly capture the main underlying structure. Although this strategy works well when optimizing the graph structure, it may lead to border effects when projecting the data onto the leaf nodes. In fact, edges connecting internal node to leaf nodes rarely extend to the border of their local cloud of points. This is not ideal in the context of pseudotime reconstruction since multiple cells would be mapped to the same leaf node and assigned the same pseudotime. Hence, we extend the principal tree by attaching a new node to each leaf. The location of each node is based on the distribution of points around the corresponding leaf node. This enables the principal graph to better cover terminal cells and infer more accurately their pseudotime. (It is implemented in `Extend Leaf Nodes`)"
   ]
  },
  {
   "cell_type": "markdown",
   "metadata": {},
   "source": [
    "By default, only **\"Finetune branching nodes\"** and **\"Extend leaf nodes\"** are enabled."
   ]
  },
  {
   "cell_type": "markdown",
   "metadata": {},
   "source": [
    "<div class=\"alert alert-info\">\n",
    "<p class=\"lead\"> Instructions - Adjusting the Elastic Principal Graph <i class=\"fa fa-info-circle\"></i></p>\n",
    "\n",
    "<ol>\n",
    "    <li>Set the following parameter values in the STREAM.EPGAdjustFinalGraph module form below<br/>\n",
    "        <UL>\n",
    "            <LI>Data File - select the result of the Dimension Reduction run from the file dropdown,     <b>epg_stream_result.pkl</b></LI>\n",
    "            <LI>output filename - <b>aepg</b> </LI>\n",
    "            <LI>epg trimming radius - <b>Inf</b> </LI>\n",
    "            <LI>epg alpha - <b>0.02</b> </LI>\n",
    "            <LI>epg beta - <b>0.0</b> </LI>\n",
    "            <li>All other parameters should be defaults or False.</li>\n",
    "        </UL>\n",
    "    </li>\n",
    "    <li>Click the Run Button</li>\n",
    "</ol>\n",
    "</div>"
   ]
  },
  {
   "cell_type": "code",
   "execution_count": 41,
   "metadata": {
    "genepattern": {
     "description": "",
     "name": "STREAM.EPGAdjustFinalGraph",
     "param_values": {
      "component.x": null,
      "component.y": null,
      "data.file": null,
      "epg.alpha": null,
      "epg.beta": null,
      "epg.collapse.mode": null,
      "epg.collapse.parameter": null,
      "epg.extension.mode": null,
      "epg.extension.parameter": null,
      "epg.final.energy": null,
      "epg.lambda": null,
      "epg.max.steps": null,
      "epg.mu": null,
      "epg.trimming.radius": null,
      "figure.height": null,
      "figure.legend.num.columns": null,
      "figure.width": null,
      "incremental.number.of.nodes": null,
      "job.cpuCount": null,
      "job.memory": null,
      "job.queue": null,
      "job.walltime": null,
      "num.components": null,
      "output.filename": null
     },
     "type": "task"
    },
    "scrolled": true
   },
   "outputs": [
    {
     "data": {
      "application/vnd.jupyter.widget-view+json": {
       "model_id": "7d857a6a1fe645599c8d48ed24ca1b12",
       "version_major": 2,
       "version_minor": 0
      },
      "text/plain": [
       "GPTaskWidget(lsid='urn:lsid:broad.mit.edu:cancer.software.genepattern.module.analysis:00400')"
      ]
     },
     "metadata": {},
     "output_type": "display_data"
    }
   ],
   "source": [
    "stream_epgadjustfinalgraph_task = gp.GPTask(genepattern.session.get(0), 'urn:lsid:broad.mit.edu:cancer.software.genepattern.module.analysis:00400')\n",
    "stream_epgadjustfinalgraph_job_spec = stream_epgadjustfinalgraph_task.make_job_spec()\n",
    "stream_epgadjustfinalgraph_job_spec.set_parameter(\"data.file\", \"\")\n",
    "stream_epgadjustfinalgraph_job_spec.set_parameter(\"epg.beta\", \"0.0\")\n",
    "stream_epgadjustfinalgraph_job_spec.set_parameter(\"figure.width\", \"8\")\n",
    "stream_epgadjustfinalgraph_job_spec.set_parameter(\"figure.legend.num.columns\", \"3\")\n",
    "stream_epgadjustfinalgraph_job_spec.set_parameter(\"figure.height\", \"8\")\n",
    "stream_epgadjustfinalgraph_job_spec.set_parameter(\"output.filename\", \"aepg\")\n",
    "stream_epgadjustfinalgraph_job_spec.set_parameter(\"epg.max.steps\", \"50\")\n",
    "stream_epgadjustfinalgraph_job_spec.set_parameter(\"incremental.number.of.nodes\", \"30\")\n",
    "stream_epgadjustfinalgraph_job_spec.set_parameter(\"epg.trimming.radius\", \"Inf\")\n",
    "stream_epgadjustfinalgraph_job_spec.set_parameter(\"component.x\", \"0\")\n",
    "stream_epgadjustfinalgraph_job_spec.set_parameter(\"component.y\", \"1\")\n",
    "stream_epgadjustfinalgraph_job_spec.set_parameter(\"num.components\", \"3\")\n",
    "stream_epgadjustfinalgraph_job_spec.set_parameter(\"epg.alpha\", \"0.02\")\n",
    "stream_epgadjustfinalgraph_job_spec.set_parameter(\"epg.lambda\", \"0.02\")\n",
    "stream_epgadjustfinalgraph_job_spec.set_parameter(\"epg.mu\", \"0.1\")\n",
    "stream_epgadjustfinalgraph_job_spec.set_parameter(\"epg.collapse.mode\", \"PointNumber\")\n",
    "stream_epgadjustfinalgraph_job_spec.set_parameter(\"epg.collapse.parameter\", \"5\")\n",
    "stream_epgadjustfinalgraph_job_spec.set_parameter(\"epg.extension.mode\", \"QuantDists\")\n",
    "stream_epgadjustfinalgraph_job_spec.set_parameter(\"epg.extension.parameter\", \"0.5\")\n",
    "stream_epgadjustfinalgraph_job_spec.set_parameter(\"epg.final.energy\", \"Penalized\")\n",
    "stream_epgadjustfinalgraph_job_spec.set_parameter(\"job.memory\", \"8 Gb\")\n",
    "stream_epgadjustfinalgraph_job_spec.set_parameter(\"job.queue\", \"gp-new-beta\")\n",
    "stream_epgadjustfinalgraph_job_spec.set_parameter(\"job.cpuCount\", \"2\")\n",
    "stream_epgadjustfinalgraph_job_spec.set_parameter(\"job.walltime\", \"1:00:00\")\n",
    "genepattern.display(stream_epgadjustfinalgraph_task)"
   ]
  },
  {
   "cell_type": "markdown",
   "metadata": {},
   "source": [
    "<div class=\"alert alert-info\">\n",
    "<p class=\"lead\"> Instructions <i class=\"fa fa-info-circle\"></i></p>\n",
    "    <ol>\n",
    "        <li>Set the <b>\"First image File Url\"</b> parameter to <b>\"aepg_branches.png\"</b> from the job result above.  This can be selected from the drop-down selector for the parameter.</li>\n",
    "        <li>Set the <b>\"Second image File Url\"</b> parameter to <b>\"aepg_branches_with_cells.png\"</b> from the job result above.  This can be selected from the drop-down selector for the parameter.</li>\n",
    "        <li>Click 'Run'.</li>\n",
    "    </ol>\n",
    "</div>"
   ]
  },
  {
   "cell_type": "code",
   "execution_count": 22,
   "metadata": {
    "nbtools": {
     "description": "Display an image within a cell of the notebook.",
     "name": "displayImagePair",
     "origin": "Notebook",
     "param_values": {
      "height": "500",
      "image_1": [],
      "image_2": [],
      "output_var": "",
      "width": "500"
     },
     "show_code": false,
     "type": "uibuilder"
    },
    "scrolled": true
   },
   "outputs": [
    {
     "data": {
      "application/vnd.jupyter.widget-view+json": {
       "model_id": "de5b43e2c82a443499bd13136959ea1d",
       "version_major": 2,
       "version_minor": 0
      },
      "text/plain": [
       "UIBuilder(collapse=False, description='Display an image within a cell of the notebook.', function_import='nbto…"
      ]
     },
     "metadata": {},
     "output_type": "display_data"
    }
   ],
   "source": [
    "genepattern.GPUIBuilder(displayImagePair, collapse=False,\n",
    "                        description=displayImageDescription,\n",
    "                        parameters=displayImageParamDef)"
   ]
  },
  {
   "cell_type": "markdown",
   "metadata": {},
   "source": [
    "## UMAP validation of branch assignment"
   ]
  },
  {
   "cell_type": "markdown",
   "metadata": {},
   "source": [
    "**This step is helpful only when keeping more than two components in the step of Dimension Reduction.**\n",
    "\n",
    "Before we proceed with downstream visualizations of cells and gene expression patterns, we will check if the learned structure (trajectories) makes sense. If it does, we will continue the downstream visualization of trajectories.  If not, we would go back to previous steps to modify the parameters used to re-run structure learning steps.\n",
    "\n",
    "To check the data, we will import the previously calcuated UMAP or tSNE coordinates of cells and color cells by learned branch assignment. If the branch assignment fits well the cellular landscape, the learned structure will be considered reasonable."
   ]
  },
  {
   "cell_type": "markdown",
   "metadata": {},
   "source": [
    "<div class=\"alert alert-info\">\n",
    "<p class=\"lead\"> Instructions - Validation of branch assignment <i class=\"fa fa-info-circle\"></i></p>\n",
    "\n",
    "<ol>\n",
    "    <li>Set the following parameter values in the STREAM.Plot2DVisualization module form below<br/>\n",
    "        <UL>\n",
    "            <LI>Data File - select the result of the EPGAdjustFinalGraph run from the file dropdown, <b>aepg_stream_result.pkl</b></LI>\n",
    "            <LI>output filename - <b>2dCell</b></LI>\n",
    "            <LI>method - <b>Uniform Manifold Approximation and Projection (UMAP)</b></LI>\n",
    "            <li>percent neighbor cells - <b>0.1</b></li>\n",
    "            <li>color by - <b>label</b></li>\n",
    "            <li>use precomputed - <b>false</b></li>\n",
    "            <li>All other parameters should be defaults or False.</li>\n",
    "        </UL>\n",
    "    </li>\n",
    "    <li>Click the Run Button</li>\n",
    "</ol>\n",
    "</div>"
   ]
  },
  {
   "cell_type": "code",
   "execution_count": 42,
   "metadata": {
    "genepattern": {
     "description": "STREAM.FeatureSelection is used to check if there is clear meaningful trajectory pattern via TSNE or UMAP 2-D plots. If so, we can continue the STREAM analysis; If not, go back to previous steps (preprocessing, feature selection and dimension reduction) to modify the parameters.",
     "name": "STREAM.Plot2DVisualization",
     "param_values": {
      "InputData": null,
      "LocalThresholdType": null,
      "PercentileOrValue": null,
      "ReferenceModel": null,
      "SampleNumber": null,
      "ThreshType": null,
      "ThresholdLowerBound": null,
      "ThresholdUpperBound": null,
      "color.by": null,
      "component.x": null,
      "component.y": null,
      "data.file": null,
      "epg.alpha": null,
      "epg.beta": null,
      "epg.collapse.mode": null,
      "epg.collapse.parameter": null,
      "epg.extension.mode": null,
      "epg.extension.parameter": null,
      "epg.final.energy": null,
      "epg.lambda": null,
      "epg.max.steps": null,
      "epg.mu": null,
      "epg.trimming.radius": null,
      "figure.height": null,
      "figure.legend.num.columns": null,
      "figure.width": null,
      "incremental.number.of.nodes": null,
      "job.cpuCount": null,
      "job.memory": null,
      "job.queue": null,
      "job.walltime": null,
      "method": null,
      "num.components": null,
      "output.filename": null,
      "percent.neighbor.cells": null,
      "perplexity": null,
      "use.precomputed": null
     },
     "show_code": true,
     "type": "task"
    },
    "scrolled": false
   },
   "outputs": [
    {
     "data": {
      "application/vnd.jupyter.widget-view+json": {
       "model_id": "42c014ff11e9482092599674e467f749",
       "version_major": 2,
       "version_minor": 0
      },
      "text/plain": [
       "GPTaskWidget(lsid='urn:lsid:broad.mit.edu:cancer.software.genepattern.module.analysis:00406')"
      ]
     },
     "metadata": {},
     "output_type": "display_data"
    }
   ],
   "source": [
    "stream_plot2dvisualization_task = gp.GPTask(genepattern.session.get(0), 'urn:lsid:broad.mit.edu:cancer.software.genepattern.module.analysis:00406')\n",
    "stream_plot2dvisualization_job_spec = stream_plot2dvisualization_task.make_job_spec()\n",
    "stream_plot2dvisualization_job_spec.set_parameter(\"data.file\", \"\")\n",
    "stream_plot2dvisualization_job_spec.set_parameter(\"percent.neighbor.cells\", \"0.1\")\n",
    "stream_plot2dvisualization_job_spec.set_parameter(\"perplexity\", \"30\")\n",
    "stream_plot2dvisualization_job_spec.set_parameter(\"color.by\", \"label\")\n",
    "stream_plot2dvisualization_job_spec.set_parameter(\"method\", \"umap\")\n",
    "stream_plot2dvisualization_job_spec.set_parameter(\"use.precomputed\", \"\")\n",
    "stream_plot2dvisualization_job_spec.set_parameter(\"figure.width\", \"8\")\n",
    "stream_plot2dvisualization_job_spec.set_parameter(\"figure.legend.num.columns\", \"3\")\n",
    "stream_plot2dvisualization_job_spec.set_parameter(\"figure.height\", \"8\")\n",
    "stream_plot2dvisualization_job_spec.set_parameter(\"output.filename\", \"2dCell\")\n",
    "stream_plot2dvisualization_job_spec.set_parameter(\"job.memory\", \"8 Gb\")\n",
    "stream_plot2dvisualization_job_spec.set_parameter(\"job.queue\", \"gp-new-beta\")\n",
    "stream_plot2dvisualization_job_spec.set_parameter(\"job.cpuCount\", \"2\")\n",
    "stream_plot2dvisualization_job_spec.set_parameter(\"job.walltime\", \"1:00:00\")\n",
    "genepattern.display(stream_plot2dvisualization_task)"
   ]
  },
  {
   "cell_type": "markdown",
   "metadata": {},
   "source": [
    "<div class=\"alert alert-info\">\n",
    "<p class=\"lead\"> Instructions <i class=\"fa fa-info-circle\"></i></p>\n",
    "    <ol>\n",
    "        <li>Set the <b>\"First image File Url\"</b> parameter to <b>\"2dCell_2D_plot.png\"</b> from the job result above.  This can be selected from the drop-down selector for the parameter.</li>\n",
    "        <li>Click 'Run'.</li>\n",
    "    </ol>\n",
    "</div>"
   ]
  },
  {
   "cell_type": "code",
   "execution_count": 23,
   "metadata": {
    "nbtools": {
     "description": "Display an image within a cell of the notebook.",
     "name": "displayImage",
     "origin": "Notebook",
     "param_values": {
      "height": "500",
      "image": [],
      "image_1": [],
      "image_2": [],
      "output_var": "",
      "width": "500"
     },
     "show_code": false,
     "type": "uibuilder"
    },
    "scrolled": true
   },
   "outputs": [
    {
     "data": {
      "application/vnd.jupyter.widget-view+json": {
       "model_id": "ba22055c175d48748708a6eefb6c3783",
       "version_major": 2,
       "version_minor": 0
      },
      "text/plain": [
       "UIBuilder(collapse=False, description='Display an image within a cell of the notebook.', function_import='nbto…"
      ]
     },
     "metadata": {},
     "output_type": "display_data"
    }
   ],
   "source": [
    "\n",
    "genepattern.GPUIBuilder(displayImage, collapse=False,\n",
    "                        description=displayImageDescription,\n",
    "                        parameters=displayImageParamDef)"
   ]
  },
  {
   "cell_type": "markdown",
   "metadata": {},
   "source": [
    "## Visualization (cells)"
   ]
  },
  {
   "cell_type": "markdown",
   "metadata": {},
   "source": [
    "To facilitate the exploration of the inferred structure, STREAM includes a flat tree plot that intuitively represents trajectories as linear segments on a 2D plane.\n",
    "\n",
    "The tree structure learned in the 3D space (or higher dimensional space), is first approximated by linear segments (each representing a branch) and mapped to a 2D plane based on a modified version of the force-directed layout Fruchterman-Reingold algorithm. We adjust each edge length in order to preserve the lengths of the branches of the original tree. Finally, using both the pseudotime location on the assigned branch and the distance from it in the MLLE space, we map cells to the obtained tree in the 2D plane. Cells are represented as dots and randomly placed to either side of the assigned branches. Each node in the tree indicates one cell state (cell states are sequentially named S0, S1, ... starting from a randomly selected node) and the resulting structure is called **flat tree plot**.\n",
    "\n",
    "Starting from the flat tree plot and with a designated root or start node, breadth-first search is used to order and arrange nodes and edges horizontally on a 2D plane. Because we preserve the branch lengths of the original tree, the x-axis represents the distance (namely pseudotime) from the start node along the different branches. Cells are then mapped to the obtained structure, and the display of this structure is called a subway map plot. It is created with the same strategy used for the flat tree plot. \n",
    "\n",
    "Although these visualizations capture trajectories and branching points, they are not informative on the density and composition of cell types along pseudotime, a common challenge when modeling large datasets. To solve this problem, we develop a trajectory visualization method called the stream plot. This compact representation summarizes cellular developmental trajectories, user-defined annotations, branching points, cell density, and gene expression patterns.\n",
    "\n",
    "Starting from the subway map plot, for each cell type (if cell labels are provided), using a sliding window approach, we first calculate the number of cells in each window along a developmental branch. To provide smooth transitions around the branching nodes, in those regions the sliding window spans both parent branch and children branches and then proceeds independently on each branch. Then, the numbers of cells in all sliding windows are normalized based on the length of the longest path in the tree. The vertical layout of different branches is optimized by taking into consideration normalized numbers of cells to make sure there will not be overlap between branches. Based on the normalized sliding window values, we first use linear interpolation to construct a set of supporting points. Then the Savitzky-Golay filter (a smoothing filter able to preserve well the signal and avoid oscillations) is applied to create smooth curves based on the set of supporting points. Finally, the obtained curves polygons (one for each cell type) are assembled to form the stream plot. On the stream plot, the length of each branch is the same as in the subway map plot and represents pseudotime, whereas the width is proportional to the number of cells at a given position."
   ]
  },
  {
   "cell_type": "markdown",
   "metadata": {},
   "source": [
    "<div class=\"alert alert-info\">\n",
    "\n",
    "<p class=\"lead\"> Instructions - Visualization of cell types on the trajectory <i class=\"fa fa-info-circle\"></i></p>\n",
    "\n",
    "<ol>\n",
    "    <li>Set the following parameter values in the STREAM.VisualizeTrajectories module form below<br/>\n",
    "        <UL>\n",
    "            <LI>Data File - select the result of the EPGAdjustFinalGraph run from the file dropdown, <b>aepg_stream_result.pkl</b></LI>\n",
    "            <LI>output filename - <b>viz</b></LI>\n",
    "            <LI>root - <b>S4</b></LI>\n",
    "            <li>preference - <b>S1,S2,S3,S4,S5</b></li>\n",
    "            <li>color by - <b>label</b></li>\n",
    "            <li>create cell plots - <b>Create Cell Plots</b></li>\n",
    "            <li>All other parameters should be defaults or False.</li>\n",
    "        </UL>\n",
    "    </li>\n",
    "    <li>Click the Run Button</li>\n",
    "</ol>\n",
    "</div>"
   ]
  },
  {
   "cell_type": "code",
   "execution_count": 32,
   "metadata": {
    "genepattern": {
     "description": "",
     "name": "STREAM.VisualizeTrajectories",
     "param_values": {
      "color.by": null,
      "create.cell.plots": null,
      "create.gene.plots": null,
      "data.file": null,
      "factor.min.win": null,
      "factor.num.win": null,
      "factor.width": null,
      "factor.zoom.in": null,
      "figure.height": null,
      "figure.legend.num.columns": null,
      "figure.width": null,
      "flag.log.view": null,
      "genes": null,
      "job.cpuCount": null,
      "job.memory": null,
      "job.queue": null,
      "job.walltime": null,
      "output.filename": null,
      "percentile.dist": null,
      "preference": null,
      "root": null,
      "subway.factor": null
     },
     "type": "task"
    }
   },
   "outputs": [
    {
     "data": {
      "application/vnd.jupyter.widget-view+json": {
       "model_id": "04bbf2a138c0461fbf5e332a9d12575d",
       "version_major": 2,
       "version_minor": 0
      },
      "text/plain": [
       "GPTaskWidget(lsid='urn:lsid:broad.mit.edu:cancer.software.genepattern.module.analysis:00401')"
      ]
     },
     "metadata": {},
     "output_type": "display_data"
    }
   ],
   "source": [
    "stream_visualizetrajectories_task = gp.GPTask(genepattern.session.get(0), 'urn:lsid:broad.mit.edu:cancer.software.genepattern.module.analysis:00401')\n",
    "stream_visualizetrajectories_job_spec = stream_visualizetrajectories_task.make_job_spec()\n",
    "stream_visualizetrajectories_job_spec.set_parameter(\"data.file\", \"\")\n",
    "stream_visualizetrajectories_job_spec.set_parameter(\"percentile.dist\", \"100\")\n",
    "stream_visualizetrajectories_job_spec.set_parameter(\"figure.width\", \"8\")\n",
    "stream_visualizetrajectories_job_spec.set_parameter(\"figure.legend.num.columns\", \"3\")\n",
    "stream_visualizetrajectories_job_spec.set_parameter(\"figure.height\", \"8\")\n",
    "stream_visualizetrajectories_job_spec.set_parameter(\"output.filename\", \"viz\")\n",
    "stream_visualizetrajectories_job_spec.set_parameter(\"root\", \"S4\")\n",
    "stream_visualizetrajectories_job_spec.set_parameter(\"preference\", \"S1,S2,S3,S4,S5\")\n",
    "stream_visualizetrajectories_job_spec.set_parameter(\"subway.factor\", \"2.0\")\n",
    "stream_visualizetrajectories_job_spec.set_parameter(\"color.by\", \"label\")\n",
    "stream_visualizetrajectories_job_spec.set_parameter(\"factor.num.win\", \"10\")\n",
    "stream_visualizetrajectories_job_spec.set_parameter(\"factor.min.win\", \"2.0\")\n",
    "stream_visualizetrajectories_job_spec.set_parameter(\"factor.width\", \"2.5\")\n",
    "stream_visualizetrajectories_job_spec.set_parameter(\"flag.log.view\", \"\")\n",
    "stream_visualizetrajectories_job_spec.set_parameter(\"factor.zoom.in\", \"100\")\n",
    "stream_visualizetrajectories_job_spec.set_parameter(\"create.cell.plots\", \"-flag_cells \")\n",
    "stream_visualizetrajectories_job_spec.set_parameter(\"create.gene.plots\", \"-flag_genes \")\n",
    "stream_visualizetrajectories_job_spec.set_parameter(\"genes\", \"\")\n",
    "stream_visualizetrajectories_job_spec.set_parameter(\"job.memory\", \"8 Gb\")\n",
    "stream_visualizetrajectories_job_spec.set_parameter(\"job.queue\", \"gp-new-beta\")\n",
    "stream_visualizetrajectories_job_spec.set_parameter(\"job.cpuCount\", \"2\")\n",
    "stream_visualizetrajectories_job_spec.set_parameter(\"job.walltime\", \"1:00:00\")\n",
    "genepattern.display(stream_visualizetrajectories_task)"
   ]
  },
  {
   "cell_type": "markdown",
   "metadata": {},
   "source": [
    "<div class=\"alert alert-info\">\n",
    "<p class=\"lead\"> Instructions <i class=\"fa fa-info-circle\"></i></p>\n",
    "    <ol>\n",
    "        <li>Set the <b>\"First image File Url\"</b> parameter to <b>\"viz_cell_stream_plot.png\"</b> from the job result above.  This can be selected from the drop-down selector for the parameter.</li>\n",
    "        <li>Set the <b>\"Second image File Url\"</b> parameter to <b>\"viz_cell_subway_map.png\"</b> from the job result above.  This can be selected from the drop-down selector for the parameter.</li>\n",
    "        <li>Click 'Run'.</li>\n",
    "    </ol>\n",
    "</div>"
   ]
  },
  {
   "cell_type": "code",
   "execution_count": 24,
   "metadata": {
    "nbtools": {
     "description": "Display an image within a cell of the notebook.",
     "name": "displayImagePair",
     "origin": "Notebook",
     "param_values": {
      "height": "600",
      "image_1": [],
      "image_2": [],
      "output_var": "",
      "width": "600"
     },
     "show_code": false,
     "type": "uibuilder"
    }
   },
   "outputs": [
    {
     "data": {
      "application/vnd.jupyter.widget-view+json": {
       "model_id": "103aadde4e8849b7bd257831bd7b8564",
       "version_major": 2,
       "version_minor": 0
      },
      "text/plain": [
       "UIBuilder(collapse=False, description='Display an image within a cell of the notebook.', function_import='nbto…"
      ]
     },
     "metadata": {},
     "output_type": "display_data"
    }
   ],
   "source": [
    "genepattern.GPUIBuilder(displayImagePair, collapse=False,\n",
    "                        description=displayImageDescription,\n",
    "                        parameters=displayImageParamDef)"
   ]
  },
  {
   "cell_type": "markdown",
   "metadata": {},
   "source": [
    "## Visualization (genes)"
   ]
  },
  {
   "cell_type": "markdown",
   "metadata": {},
   "source": [
    "On subway map plot, to display gene expression, each cell is colored according to its gene expression (the maximum value in the colormap is set as 90 percentile of gene expression values across all cells).\n",
    "\n",
    "On stream plot, to display gene expression, we consider, for each sliding window, not only the number of cells but also their average gene expression values smoothed by bicubic interpolation (the maximum value is set as the nintieth percentile of the average gene expression values from all the sliding windows). "
   ]
  },
  {
   "cell_type": "markdown",
   "metadata": {},
   "source": [
    "<div class=\"alert alert-info\">\n",
    "<p class=\"lead\"> Instructions - Visualization of genes on the trajectory <i class=\"fa fa-info-circle\"></i></p>\n",
    "<ol>\n",
    "    <li>Set the following parameter values in the STREAM.VisualizeTrajectories module form below<br/>\n",
    "        <UL>\n",
    "            <LI>Data File - select the result of the EPGAdjustFinalGraph run from the file dropdown, <b>aepg_stream_result.pkl</b></LI>\n",
    "            <LI>output filename - <b>viz</b></LI>\n",
    "            <LI>root - <b>S1</b></LI>\n",
    "            <li>preference - <b>S3,S4</b></li>\n",
    "            <li>color by - <b>label</b></li>\n",
    "            <li>create gene plots - <b>Create Gene Plots</b></li>\n",
    "            <li>genes - <b>Car2, Gata1, Epx</b></li>\n",
    "            <li>All other parameters should be defaults or False.</li>\n",
    "        </UL>\n",
    "    </li>\n",
    "    <li>Click the Run Button</li>\n",
    "</ol>\n",
    "</div>"
   ]
  },
  {
   "cell_type": "code",
   "execution_count": 33,
   "metadata": {
    "genepattern": {
     "description": "",
     "name": "STREAM.VisualizeTrajectories",
     "param_values": {
      "color.by": null,
      "create.cell.plots": null,
      "create.gene.plots": null,
      "data.file": null,
      "factor.min.win": null,
      "factor.num.win": null,
      "factor.width": null,
      "factor.zoom.in": null,
      "figure.height": null,
      "figure.legend.num.columns": null,
      "figure.width": null,
      "flag.log.view": null,
      "genes": null,
      "job.cpuCount": null,
      "job.memory": null,
      "job.queue": null,
      "job.walltime": null,
      "output.filename": null,
      "percentile.dist": null,
      "preference": null,
      "root": null,
      "subway.factor": null
     },
     "type": "task"
    },
    "scrolled": true
   },
   "outputs": [
    {
     "data": {
      "application/vnd.jupyter.widget-view+json": {
       "model_id": "ec7484373c724998be2444a85b99d2b4",
       "version_major": 2,
       "version_minor": 0
      },
      "text/plain": [
       "GPTaskWidget(lsid='urn:lsid:broad.mit.edu:cancer.software.genepattern.module.analysis:00401')"
      ]
     },
     "metadata": {},
     "output_type": "display_data"
    }
   ],
   "source": [
    "stream_visualizetrajectories_task = gp.GPTask(genepattern.session.get(0), 'urn:lsid:broad.mit.edu:cancer.software.genepattern.module.analysis:00401')\n",
    "stream_visualizetrajectories_job_spec = stream_visualizetrajectories_task.make_job_spec()\n",
    "stream_visualizetrajectories_job_spec.set_parameter(\"data.file\", \"\")\n",
    "stream_visualizetrajectories_job_spec.set_parameter(\"percentile.dist\", \"100\")\n",
    "stream_visualizetrajectories_job_spec.set_parameter(\"figure.width\", \"8\")\n",
    "stream_visualizetrajectories_job_spec.set_parameter(\"figure.legend.num.columns\", \"3\")\n",
    "stream_visualizetrajectories_job_spec.set_parameter(\"figure.height\", \"8\")\n",
    "stream_visualizetrajectories_job_spec.set_parameter(\"output.filename\", \"figs\")\n",
    "stream_visualizetrajectories_job_spec.set_parameter(\"root\", \"S1\")\n",
    "stream_visualizetrajectories_job_spec.set_parameter(\"preference\", \"S3,S4\")\n",
    "stream_visualizetrajectories_job_spec.set_parameter(\"subway.factor\", \"2.0\")\n",
    "stream_visualizetrajectories_job_spec.set_parameter(\"color.by\", \"label\")\n",
    "stream_visualizetrajectories_job_spec.set_parameter(\"factor.num.win\", \"10\")\n",
    "stream_visualizetrajectories_job_spec.set_parameter(\"factor.min.win\", \"2.0\")\n",
    "stream_visualizetrajectories_job_spec.set_parameter(\"factor.width\", \"2.5\")\n",
    "stream_visualizetrajectories_job_spec.set_parameter(\"flag.log.view\", \"\")\n",
    "stream_visualizetrajectories_job_spec.set_parameter(\"factor.zoom.in\", \"100\")\n",
    "stream_visualizetrajectories_job_spec.set_parameter(\"create.cell.plots\", \"-flag_cells \")\n",
    "stream_visualizetrajectories_job_spec.set_parameter(\"create.gene.plots\", \"-flag_genes \")\n",
    "stream_visualizetrajectories_job_spec.set_parameter(\"genes\", \"Car2, Gata1, Epx\")\n",
    "stream_visualizetrajectories_job_spec.set_parameter(\"job.memory\", \"8 Gb\")\n",
    "stream_visualizetrajectories_job_spec.set_parameter(\"job.queue\", \"gp-new-beta\")\n",
    "stream_visualizetrajectories_job_spec.set_parameter(\"job.cpuCount\", \"2\")\n",
    "stream_visualizetrajectories_job_spec.set_parameter(\"job.walltime\", \"1:00:00\")\n",
    "genepattern.display(stream_visualizetrajectories_task)"
   ]
  },
  {
   "cell_type": "markdown",
   "metadata": {},
   "source": [
    "<div class=\"alert alert-info\">\n",
    "<p class=\"lead\"> Instructions <i class=\"fa fa-info-circle\"></i></p>\n",
    "    <ol>\n",
    "        <li>Set the <b>\"First image File Url\"</b> parameter to <b>\"S1/stream_plot_car2.png\"</b> from the job result above.  This can be selected from the drop-down selector for the parameter.</li>\n",
    "        <li>Set the <b>\"Second image File Url\"</b> parameter to <b>\"S1/subway_map_car2.png\"</b> from the job result above.  This can be selected from the drop-down selector for the parameter.</li>\n",
    "        <li>Click 'Run'.</li>\n",
    "        <li>Repeat steps 1-3 for the other 2 genes (epx, gata1).</li>\n",
    "    </ol>\n",
    "</div>"
   ]
  },
  {
   "cell_type": "code",
   "execution_count": 25,
   "metadata": {
    "nbtools": {
     "description": "Display an image within a cell of the notebook.",
     "name": "displayImagePair",
     "origin": "Notebook",
     "param_values": {
      "height": "500",
      "image_1": [],
      "image_2": [],
      "output_var": "",
      "width": "500"
     },
     "show_code": false,
     "type": "uibuilder"
    }
   },
   "outputs": [
    {
     "data": {
      "application/vnd.jupyter.widget-view+json": {
       "model_id": "0c07f66cbd8e408ca2d001fa35060824",
       "version_major": 2,
       "version_minor": 0
      },
      "text/plain": [
       "UIBuilder(collapse=False, description='Display an image within a cell of the notebook.', function_import='nbto…"
      ]
     },
     "metadata": {},
     "output_type": "display_data"
    }
   ],
   "source": [
    "genepattern.GPUIBuilder(displayImagePair, collapse=False,\n",
    "                        description=displayImageDescription,\n",
    "                        parameters=displayImageParamDef)"
   ]
  },
  {
   "cell_type": "markdown",
   "metadata": {},
   "source": [
    "# Marker gene detection"
   ]
  },
  {
   "cell_type": "markdown",
   "metadata": {},
   "source": [
    "## 1.Detect marker genes for each leaf branch"
   ]
  },
  {
   "cell_type": "markdown",
   "metadata": {},
   "source": [
    "For each gene E we scale the gene expression values to [0,1]. Then we calculate the average gene expressions for all leaf branches. Based on the average expressions, we calculate the Z-scores of all leaf branches. If there is any leaf branch with an absolute Z-score greater than 1.5, then the leaf branch with the highest absolute Z-score value will be picked as the candidate leaf branch. Next, Kruskal–Wallis H-test is computed for all the leaf branches to test if a significant difference of gene expression median value between leaf branches exists. If it is significant (p-value < 0.01), then a post-hoc pairwise Conover’s test is computed for multiple comparisons of mean rank sums test between all leaf branches. If the p-values between the candidate leaf branch and the other leaf branches are all below the specified threshold (0.01), then the gene E will be considered as leaf gene of the candidate leaf branch."
   ]
  },
  {
   "cell_type": "markdown",
   "metadata": {},
   "source": [
    "<div class=\"alert alert-info\">\n",
    "<p class=\"lead\"> Instructions - Detect Marker Genes for each leaf branch <i class=\"fa fa-info-circle\"></i></p>\n",
    "\n",
    "<ol>\n",
    "    <li>Set the following parameter values in the STREAM.DetectLeafGenes module form below<br/>\n",
    "        <UL>\n",
    "            <LI>Data File - select the result of the EPGAdjustFinalGraph run from the file dropdown, <b>aepg_stream_result.pkl</b></LI>\n",
    "            <LI>output filename - <b>leaf</b></LI>\n",
    "            <LI>root - <b>S4</b></LI>\n",
    "            <li>preference - <b>S1,S2</b></li>\n",
    "            <li>All other parameters should be defaults or False.</li>\n",
    "        </UL>\n",
    "    </li>\n",
    "    <li>Click the Run Button</li>\n",
    "</ol>\n",
    "</div>"
   ]
  },
  {
   "cell_type": "code",
   "execution_count": 36,
   "metadata": {
    "genepattern": {
     "description": "Detect marker genes for each leaf branch",
     "name": "STREAM.DetectLeafGenes",
     "param_values": {
      "cutoff.pvalue": null,
      "cutoff.zscore": null,
      "data.file": null,
      "job.cpuCount": null,
      "job.memory": null,
      "job.queue": null,
      "job.walltime": null,
      "output.filename": null,
      "percentile.expr": null,
      "preference": null,
      "root": null,
      "use.precomputed": null
     },
     "type": "task"
    }
   },
   "outputs": [
    {
     "data": {
      "application/vnd.jupyter.widget-view+json": {
       "model_id": "de9e91292e67420f9a4a913cdf152f7c",
       "version_major": 2,
       "version_minor": 0
      },
      "text/plain": [
       "GPTaskWidget(lsid='urn:lsid:broad.mit.edu:cancer.software.genepattern.module.analysis:00403')"
      ]
     },
     "metadata": {},
     "output_type": "display_data"
    }
   ],
   "source": [
    "stream_detectleafgenes_task = gp.GPTask(genepattern.session.get(0), 'urn:lsid:broad.mit.edu:cancer.software.genepattern.module.analysis:00403')\n",
    "stream_detectleafgenes_job_spec = stream_detectleafgenes_task.make_job_spec()\n",
    "stream_detectleafgenes_job_spec.set_parameter(\"data.file\", \"\")\n",
    "stream_detectleafgenes_job_spec.set_parameter(\"output.filename\", \"leaf_<data.file_basename>\")\n",
    "stream_detectleafgenes_job_spec.set_parameter(\"root\", \"S4\")\n",
    "stream_detectleafgenes_job_spec.set_parameter(\"preference\", \"S2,S1\")\n",
    "stream_detectleafgenes_job_spec.set_parameter(\"cutoff.zscore\", \"1.5\")\n",
    "stream_detectleafgenes_job_spec.set_parameter(\"cutoff.pvalue\", \"0.01\")\n",
    "stream_detectleafgenes_job_spec.set_parameter(\"percentile.expr\", \"95\")\n",
    "stream_detectleafgenes_job_spec.set_parameter(\"use.precomputed\", \"-flag_use_precomputed \")\n",
    "stream_detectleafgenes_job_spec.set_parameter(\"job.memory\", \"8 Gb\")\n",
    "stream_detectleafgenes_job_spec.set_parameter(\"job.queue\", \"gp-new-beta\")\n",
    "stream_detectleafgenes_job_spec.set_parameter(\"job.cpuCount\", \"2\")\n",
    "stream_detectleafgenes_job_spec.set_parameter(\"job.walltime\", \"1:00:00\")\n",
    "genepattern.display(stream_detectleafgenes_task)"
   ]
  },
  {
   "cell_type": "markdown",
   "metadata": {},
   "source": [
    "<div class=\"alert alert-info\">\n",
    "<p class=\"lead\"> Instructions <i class=\"fa fa-info-circle\"></i></p>\n",
    "    <ol>\n",
    "        <li>Set the <b>\"Job File Url\"</b> parameter to <b>\"leaf_genes/leaf_genesS0_S1.tsv\"</b> from the job result above.  This can be selected from the drop-down selector for the parameter.</li>\n",
    "        <li>Click 'Run'.</li>\n",
    "        <li>Adjust the z-score slider to expand/contract the list of displayed genes based on their z-scores.</li>\n",
    "        <li>Repeat with the other output files to see transition genes for different branches.</li>\n",
    "    </ol>\n",
    "</div>"
   ]
  },
  {
   "cell_type": "code",
   "execution_count": 26,
   "metadata": {
    "nbtools": {
     "description": "Download a tsv gene list output file to the Notebook server and display the genes above the z-score cutoff",
     "name": "showLeafMarkerGenes",
     "origin": "Notebook",
     "param_values": {
      "AnnData_File": "fooi",
      "File_Name": "test.tsv",
      "Job_File_Url": [],
      "Plot_Variable": "sd",
      "Which_Axis": "sd",
      "output_var": ""
     },
     "show_code": false,
     "type": "uibuilder"
    },
    "scrolled": false
   },
   "outputs": [
    {
     "data": {
      "application/vnd.jupyter.widget-view+json": {
       "model_id": "e47e66336a454a5a9e794b51cd775752",
       "version_major": 2,
       "version_minor": 0
      },
      "text/plain": [
       "UIBuilder(collapse=False, description='Download a tsv gene list output file to the Notebook server and display…"
      ]
     },
     "metadata": {},
     "output_type": "display_data"
    },
    {
     "data": {
      "application/javascript": [
       "\n",
       "            NBToolManager.instance().register(new NBToolManager.NBTool({\n",
       "                origin: \"Notebook\",\n",
       "                id: \"showLeafMarkerGenes\",\n",
       "                name: \"showLeafMarkerGenes\",\n",
       "                description: \"Download a tsv gene list output file to the Notebook server and display the genes above the z-score cutoff\",\n",
       "                version: \"null\",\n",
       "                tags: null,\n",
       "                attributes: null,\n",
       "                load: function() { return true; },\n",
       "                render: function() { let code = \"nbtools.tool(id='showLeafMarkerGenes', origin='Notebook')\";\n",
       "                let cell = Jupyter.notebook.get_selected_cell();\n",
       "                const is_empty = cell.get_text().trim() === \"\";\n",
       "\n",
       "                // If this cell is not empty, insert a new cell and use that\n",
       "                // Otherwise just use this cell\n",
       "                if (!is_empty) {\n",
       "                    cell = Jupyter.notebook.insert_cell_below();\n",
       "                    Jupyter.notebook.select_next();\n",
       "                }\n",
       "\n",
       "                cell.set_text(code);\n",
       "                cell.execute();\n",
       "\n",
       "                return cell; },\n",
       "            }));"
      ]
     },
     "metadata": {},
     "output_type": "display_data"
    }
   ],
   "source": [
    "from ipywidgets import interact, interactive, fixed, interact_manual, FloatSlider\n",
    "import ipywidgets as widgets\n",
    "import os\n",
    "import pandas as pd\n",
    "HideOutputvar_parameters = {\"output_var\": {\"hide\": True}}\n",
    "\n",
    "\n",
    "showLeafMarkerGenes_parameters = {\"Job_File_Url\": {\"type\": \"file\", \"kinds\": [\"tsv\", \"TSV\"]}, \"output_var\": {\"hide\": True}}   \n",
    "\n",
    "\n",
    "@genepattern.build_ui(description = \"Download a tsv gene list output file to the Notebook server and display the genes above the z-score cutoff\",\n",
    "                          parameters=showLeafMarkerGenes_parameters, collapse=False)\n",
    "def showLeafMarkerGenes(Job_File_Url):\n",
    "    # first get the result file\n",
    "        \n",
    "\n",
    "    # extract job number and file name from url\n",
    "    job_num = Job_File_Url.split(\"/\")[-3]\n",
    "    remote_file_name = Job_File_Url.split(\"/\")[-1]\n",
    "\n",
    "    File_Name = remote_file_name\n",
    "    if os.path.isfile(File_Name):\n",
    "        print(\"File already exists, renaming the old file to \" + File_Name+ \".old before downloading.\")\n",
    "        os.rename(File_Name, File_Name + \".old\")\n",
    "\n",
    "    \n",
    "    print(remote_file_name)\n",
    "    print(job_num)\n",
    "    # get the job based on the job number passed as the second argument\n",
    "    job = gp.GPJob(genepattern.get_session(0), job_num)\n",
    "\n",
    "    # fetch a specific file from the job\n",
    "    remote_file = job.get_file(remote_file_name)\n",
    "    \n",
    "    print(\"downloading file...\")\n",
    "    response = remote_file.open()\n",
    "    CHUNK = 16 * 1024\n",
    "    with open(File_Name, 'wb') as f:\n",
    "        while True:\n",
    "            chunk = response.read(CHUNK)\n",
    "            if not chunk:\n",
    "                break\n",
    "            f.write(chunk)\n",
    "    print(\"Download complete.\")\n",
    "    \n",
    "    dataframe = pd.read_csv(File_Name, sep='\\t')\n",
    "    def showTopGenes(z_score_cutoff=1.5):\n",
    "        # Histogram(Data_File, Plot_Variable, Which_Axis, Lower_Bound, Upper_Bound)\n",
    "        print(z_score_cutoff)\n",
    "        pd.set_option('display.max_rows', len(dataframe))\n",
    "        display(dataframe[dataframe['zscore'] > z_score_cutoff])\n",
    "        pd.reset_option('display.max_rows')\n",
    "    \n",
    "    display(interactive(showTopGenes,  z_score_cutoff=FloatSlider(value=1.7, min=1.5, max=2.0, step=0.01,continuous_update=False)))\n",
    "    "
   ]
  },
  {
   "cell_type": "markdown",
   "metadata": {},
   "source": [
    "## 2. Detect transition gene for each branch"
   ]
  },
  {
   "cell_type": "markdown",
   "metadata": {},
   "source": [
    "For each branch Bi and for each gene E we first scale the gene expression values to [0,1] for convenience. Then we check if the candidate gene has a reasonable dynamic range considering cells close to the start and end points. To this end, we consider the fold change in average gene expressions of the first 20% and the last 80% of the cells based on the inferred pseudotime. If the difference is greater than a specified threshold (the default log2 fold change value is 0.25), we then calculate Spearman’s rank correlation between inferred pseudotime and gene expression of all the cells along Bi. Genes with Spearman’s correlation coefficient above a specified threshold (0.4 by default) are identified and reported as transition genes."
   ]
  },
  {
   "cell_type": "markdown",
   "metadata": {},
   "source": [
    "<div class=\"alert alert-info\">\n",
    "<p class=\"lead\"> Instructions - Detect Transition Genes for each leaf branch <i class=\"fa fa-info-circle\"></i></p>\n",
    "\n",
    "<ol>\n",
    "    <li>Set the following parameter values in the STREAM.DetectTransitionGenes module form below<br/>\n",
    "        <UL>\n",
    "            <LI>Data File - select the result of the EPGAdjustFinalGraph run from the file dropdown, <b>aepg_stream_result.pkl</b></LI>\n",
    "            <LI>output filename - <b>transition</b></LI>\n",
    "            <LI>root - <b>S4</b></LI>\n",
    "            <li>preference - <b>S1,S2</b></li>\n",
    "            <li>All other parameters should be defaults or False.</li>\n",
    "        </UL>\n",
    "    </li>\n",
    "    <li>Click the Run Button</li>\n",
    "</ol>\n",
    "</div>"
   ]
  },
  {
   "cell_type": "code",
   "execution_count": 38,
   "metadata": {
    "genepattern": {
     "description": "",
     "name": "STREAM.DetectTransitionGenes",
     "param_values": {
      "cutoff.logfc": null,
      "cutoff.spearman": null,
      "data.file": null,
      "figure.height": null,
      "figure.width": null,
      "job.cpuCount": null,
      "job.memory": null,
      "job.queue": null,
      "job.walltime": null,
      "num.genes": null,
      "output.filename": null,
      "percentile.expr": null,
      "preference": null,
      "root": null,
      "use.precomputed": null
     },
     "type": "task"
    }
   },
   "outputs": [
    {
     "data": {
      "application/vnd.jupyter.widget-view+json": {
       "model_id": "541fe49f276644249c070bf53c5511e4",
       "version_major": 2,
       "version_minor": 0
      },
      "text/plain": [
       "GPTaskWidget(lsid='urn:lsid:broad.mit.edu:cancer.software.genepattern.module.analysis:00404')"
      ]
     },
     "metadata": {},
     "output_type": "display_data"
    }
   ],
   "source": [
    "stream_detecttransitiongenes_task = gp.GPTask(genepattern.session.get(0), 'urn:lsid:broad.mit.edu:cancer.software.genepattern.module.analysis:00404')\n",
    "stream_detecttransitiongenes_job_spec = stream_detecttransitiongenes_task.make_job_spec()\n",
    "stream_detecttransitiongenes_job_spec.set_parameter(\"data.file\", \"\")\n",
    "stream_detecttransitiongenes_job_spec.set_parameter(\"figure.width\", \"8\")\n",
    "stream_detecttransitiongenes_job_spec.set_parameter(\"use.precomputed\", \"\")\n",
    "stream_detecttransitiongenes_job_spec.set_parameter(\"figure.height\", \"8\")\n",
    "stream_detecttransitiongenes_job_spec.set_parameter(\"output.filename\", \"transition\")\n",
    "stream_detecttransitiongenes_job_spec.set_parameter(\"num.genes\", \"15\")\n",
    "stream_detecttransitiongenes_job_spec.set_parameter(\"root\", \"S4\")\n",
    "stream_detecttransitiongenes_job_spec.set_parameter(\"preference\", \"S2,S1\")\n",
    "stream_detecttransitiongenes_job_spec.set_parameter(\"percentile.expr\", \"95\")\n",
    "stream_detecttransitiongenes_job_spec.set_parameter(\"cutoff.spearman\", \"0.4\")\n",
    "stream_detecttransitiongenes_job_spec.set_parameter(\"cutoff.logfc\", \"0.25\")\n",
    "stream_detecttransitiongenes_job_spec.set_parameter(\"job.memory\", \"8 Gb\")\n",
    "stream_detecttransitiongenes_job_spec.set_parameter(\"job.queue\", \"gp-new-beta\")\n",
    "stream_detecttransitiongenes_job_spec.set_parameter(\"job.cpuCount\", \"2\")\n",
    "stream_detecttransitiongenes_job_spec.set_parameter(\"job.walltime\", \"1:00:00\")\n",
    "genepattern.display(stream_detecttransitiongenes_task)"
   ]
  },
  {
   "cell_type": "markdown",
   "metadata": {},
   "source": [
    "<div class=\"alert alert-info\">\n",
    "<p class=\"lead\"> Instructions <i class=\"fa fa-info-circle\"></i></p>\n",
    "    <ol>\n",
    "        <li>Set the <b>\"Image File Url\"</b> parameter to <b>\"transition_genes_S0_S1.pdf\"</b> from the job result above.  This can be selected from the drop-down selector for the parameter.</li>\n",
    "        <li>Click 'Run'.</li>\n",
    "    </ol>\n",
    "</div>"
   ]
  },
  {
   "cell_type": "code",
   "execution_count": 27,
   "metadata": {
    "nbtools": {
     "description": "Display an image within a cell of the notebook.",
     "name": "displayPdf",
     "origin": "Notebook",
     "param_values": {
      "height": "600",
      "image": [],
      "output_var": "",
      "width": "800"
     },
     "show_code": false,
     "type": "uibuilder"
    }
   },
   "outputs": [
    {
     "data": {
      "application/vnd.jupyter.widget-view+json": {
       "model_id": "e22a7f4915dc4ab7b911e57d915e2b1a",
       "version_major": 2,
       "version_minor": 0
      },
      "text/plain": [
       "UIBuilder(collapse=False, description='Display an image within a cell of the notebook.', function_import='nbto…"
      ]
     },
     "metadata": {},
     "output_type": "display_data"
    }
   ],
   "source": [
    "genepattern.GPUIBuilder(displayPdf, collapse=False,\n",
    "                        description=displayPdfDescription,\n",
    "                        parameters=displayPdfParamDef)"
   ]
  },
  {
   "cell_type": "markdown",
   "metadata": {},
   "source": [
    "## 3. Detect differentially expressed genes between pairs of branches"
   ]
  },
  {
   "cell_type": "markdown",
   "metadata": {},
   "source": [
    "For each pair of branches $B_i$ and $B_j$, and for the gene E, the gene expression values across cells from both branches are scaled to the range [0,1]. For gene expression $E_i$ from $B_i$ and gene expression $E_j$ from $B_j$, we first calculate their mean values. Then, we check the fold change between mean values to make sure it is above a specified threshold (the default log2 fold change value is >0.25). Mann–Whitney U test is then used to test whether $E_i$ is greater than $E_j$ or $E_i$ is less than $E_j$. Since the statistic U could be approximated by a normal distribution for large samples, and U depends on specific datasets, we standardize U to Z-score to make it comparable between different datasets. For small samples where this test is underpowered (<20 cells per branch), we report only the fold change to qualitatively evaluate the difference between $E_i$ and $E_j$. Genes with Z-score or fold change greater than the specified threshold (2.0 by default) are considered as differentially expressed genes between two branches. Formally:\n",
    "\n",
    "\\begin{equation*}\n",
    "z = 1 +  \\frac{U-m_{U}}{(\\sigma_{U})}\n",
    "\\end{equation*}\n",
    "\n",
    "Where $m_{U}$, $\\sigma_{U}$ are the mean and standard deviation, and\n",
    "\n",
    "\\begin{equation*}\n",
    "m_{U} = \\frac{n_{i}n_{j}}{2}\n",
    "\\end{equation*}\n",
    "\n",
    "\\begin{equation*}\n",
    "\\sigma_{U} = \\sqrt{\\frac{n_{i}n_{j}}{12}}((n+1)-\\sum_{l=1}^k\\frac{t^3_l-t_l}{n(n-1})\n",
    "\\end{equation*}\n",
    "\n",
    "Where $n = n_i + n_j$ $n_i$,$n_j$ are the number of cells in each branch, $t_i$ is the number of cells sharing rank $l$ and $k$ is the number of distinct ranks."
   ]
  },
  {
   "cell_type": "markdown",
   "metadata": {},
   "source": [
    "<div class=\"alert alert-info\">\n",
    "\n",
    "<p class=\"lead\"> Instructions - Detect Differentially expressed Genes between pairs of branches <i class=\"fa fa-info-circle\"></i></p>\n",
    "\n",
    "<ol>\n",
    "    <li>Set the following parameter values in the STREAM.DetectDifferentiallyExpressedGenes module form below<br/>\n",
    "        <UL>\n",
    "            <LI>Data File - select the result of the EPGAdjustFinalGraph run from the file dropdown, <b>aepg_stream_result.pkl</b></LI>\n",
    "            <LI>output filename - <b>de</b></LI>\n",
    "            <LI>root - <b>S4</b></LI>\n",
    "            <li>preference - <b>S2,S1</b></li>\n",
    "            <li>All other parameters should be defaults or False.</li>\n",
    "        </UL>\n",
    "    </li>\n",
    "    <li>Click the Run Button</li>\n",
    "</ol>\n",
    "</div>"
   ]
  },
  {
   "cell_type": "code",
   "execution_count": 39,
   "metadata": {
    "genepattern": {
     "description": "Used to detect differentially expressed genes between pairs of branches.",
     "name": "STREAM.DetectDifferentiallyExpressedGenes",
     "param_values": {
      "cutoff.logfc": null,
      "cutoff.zscore": null,
      "data.file": null,
      "figure.height": null,
      "figure.width": null,
      "flag.use.precomputed": null,
      "job.cpuCount": null,
      "job.memory": null,
      "job.queue": null,
      "job.walltime": null,
      "num.genes": null,
      "output.filename": null,
      "percentile.expr": null,
      "preference": null,
      "root": null
     },
     "show_code": true,
     "type": "task"
    },
    "scrolled": true
   },
   "outputs": [
    {
     "data": {
      "application/vnd.jupyter.widget-view+json": {
       "model_id": "d6827d1b38044504b18c0897bd325d5b",
       "version_major": 2,
       "version_minor": 0
      },
      "text/plain": [
       "GPTaskWidget(lsid='urn:lsid:broad.mit.edu:cancer.software.genepattern.module.analysis:00402')"
      ]
     },
     "metadata": {},
     "output_type": "display_data"
    }
   ],
   "source": [
    "stream_detectdifferentiallyexpressedgenes_task = gp.GPTask(genepattern.session.get(0), 'urn:lsid:broad.mit.edu:cancer.software.genepattern.module.analysis:00402')\n",
    "stream_detectdifferentiallyexpressedgenes_job_spec = stream_detectdifferentiallyexpressedgenes_task.make_job_spec()\n",
    "stream_detectdifferentiallyexpressedgenes_job_spec.set_parameter(\"data.file\", \"\")\n",
    "stream_detectdifferentiallyexpressedgenes_job_spec.set_parameter(\"figure.width\", \"8\")\n",
    "stream_detectdifferentiallyexpressedgenes_job_spec.set_parameter(\"flag.use.precomputed\", \"\")\n",
    "stream_detectdifferentiallyexpressedgenes_job_spec.set_parameter(\"figure.height\", \"8\")\n",
    "stream_detectdifferentiallyexpressedgenes_job_spec.set_parameter(\"output.filename\", \"<data.file_basename>\")\n",
    "stream_detectdifferentiallyexpressedgenes_job_spec.set_parameter(\"num.genes\", \"15\")\n",
    "stream_detectdifferentiallyexpressedgenes_job_spec.set_parameter(\"root\", \"S4\")\n",
    "stream_detectdifferentiallyexpressedgenes_job_spec.set_parameter(\"preference\", \"S2,S1\")\n",
    "stream_detectdifferentiallyexpressedgenes_job_spec.set_parameter(\"cutoff.zscore\", \"1.5\")\n",
    "stream_detectdifferentiallyexpressedgenes_job_spec.set_parameter(\"percentile.expr\", \"95\")\n",
    "stream_detectdifferentiallyexpressedgenes_job_spec.set_parameter(\"cutoff.logfc\", \"0.25\")\n",
    "stream_detectdifferentiallyexpressedgenes_job_spec.set_parameter(\"job.memory\", \"8 Gb\")\n",
    "stream_detectdifferentiallyexpressedgenes_job_spec.set_parameter(\"job.queue\", \"gp-new-beta\")\n",
    "stream_detectdifferentiallyexpressedgenes_job_spec.set_parameter(\"job.cpuCount\", \"2\")\n",
    "stream_detectdifferentiallyexpressedgenes_job_spec.set_parameter(\"job.walltime\", \"1:00:00\")\n",
    "genepattern.display(stream_detectdifferentiallyexpressedgenes_task)"
   ]
  },
  {
   "cell_type": "markdown",
   "metadata": {},
   "source": [
    "<div class=\"alert alert-info\">\n",
    "<p class=\"lead\"> Instructions <i class=\"fa fa-info-circle\"></i></p>\n",
    "    <ol>\n",
    "        <li>Set the <b>\"Image File Url\"</b> parameter to <b>\"de_genes_S0_S2 and S0_S1.pdf\"</b> from the job result above.  This can be selected from the drop-down selector for the parameter.</li>\n",
    "        <li>Click 'Run'.</li>\n",
    "    </ol>\n",
    "</div>"
   ]
  },
  {
   "cell_type": "code",
   "execution_count": 28,
   "metadata": {
    "nbtools": {
     "description": "Display an image within a cell of the notebook.",
     "name": "displayPdf",
     "origin": "Notebook",
     "param_values": {
      "height": "600",
      "image": [],
      "output_var": "",
      "width": "800"
     },
     "show_code": false,
     "type": "uibuilder"
    },
    "scrolled": false
   },
   "outputs": [
    {
     "data": {
      "application/vnd.jupyter.widget-view+json": {
       "model_id": "7cdbd97a811d496280ee8dc34cdc82e4",
       "version_major": 2,
       "version_minor": 0
      },
      "text/plain": [
       "UIBuilder(collapse=False, description='Display an image within a cell of the notebook.', function_import='nbto…"
      ]
     },
     "metadata": {},
     "output_type": "display_data"
    }
   ],
   "source": [
    "genepattern.GPUIBuilder(displayPdf, collapse=False,\n",
    "                        description=displayPdfDescription,\n",
    "                        parameters=displayPdfParamDef)"
   ]
  },
  {
   "cell_type": "markdown",
   "metadata": {},
   "source": [
    "<h1 id=\"Conclusion\" data-toc-modified-id=\"Conclusion-2.1\"><a id=\"Conclusion-2.1\" class=\"toc-mod-link\"></a>Conclusion</h1>\n",
    "<p>For more information about the STREAM Trajectory Inference method or to cite its use, please refer to the paper, \"<a href=\"https://www.nature.com/articles/s41467-019-09670-4\">Single-cell trajectories reconstruction, exploration and mapping of omics data with STREAM</a>\", Nature Communications, volume 10, Article number: 1903 (2019)</p>\n",
    "<h2 id=\"References\" data-toc-modified-id=\"References-2.1.1\"><a id=\"References-2.1.1\" class=\"toc-mod-link\"></a>References</h2>\n",
    "<p><a href=\"https://www.nature.com/articles/s41467-019-09670-4\">H Chen, L Albergante, JY Hsu, CA Lareau, GL Bosco, J Guan, S Zhou, AN Gorban, DE Bauer, MJ Aryee, DM Langenau, A Zinovyev, JD Buenrostro, GC Yuan, L Pinello. Single-cell trajectories reconstruction, exploration and mapping of omics data with STREAM</a>. Nature Communications, volume 10, Article number: 1903 (2019).</p>\n",
    "<p>&nbsp;</p>\n",
    "<p><a href=\"https://github.com/pinellolab/STREAM\" target=\"_blank\" rel=\"noopener\">https://github.com/pinellolab/STREAM</a></p>\n",
    "<p>&nbsp;</p>"
   ]
  }
 ],
 "metadata": {
  "genepattern": {
   "repository_url": "http://notebook.genepattern.org/services/sharing/notebooks/379/"
  },
  "kernelspec": {
   "display_name": "Python 3.6",
   "language": "python",
   "name": "python3.6"
  },
  "language_info": {
   "codemirror_mode": {
    "name": "ipython",
    "version": 3
   },
   "file_extension": ".py",
   "mimetype": "text/x-python",
   "name": "python",
   "nbconvert_exporter": "python",
   "pygments_lexer": "ipython3",
   "version": "3.6.7"
  },
  "toc": {
   "base_numbering": 1,
   "nav_menu": {},
   "number_sections": false,
   "sideBar": true,
   "skip_h1_title": false,
   "title_cell": "Table of Contents",
   "title_sidebar": "Contents",
   "toc_cell": false,
   "toc_position": {
    "height": "calc(100% - 180px)",
    "left": "10px",
    "top": "150px",
    "width": "165px"
   },
   "toc_section_display": true,
   "toc_window_display": true
  }
 },
 "nbformat": 4,
 "nbformat_minor": 2
}
